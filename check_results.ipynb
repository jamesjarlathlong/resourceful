{
 "cells": [
  {
   "cell_type": "code",
   "execution_count": 29,
   "metadata": {
    "collapsed": true
   },
   "outputs": [],
   "source": [
    "import sklearn\n",
    "import json"
   ]
  },
  {
   "cell_type": "code",
   "execution_count": 30,
   "metadata": {
    "collapsed": false
   },
   "outputs": [],
   "source": [
    "agent1 = sklearn.externals.joblib.load('agent1_simpleworking')\n",
    "agent2 = sklearn.externals.joblib.load('agent2_simpleworking')"
   ]
  },
  {
   "cell_type": "code",
   "execution_count": 31,
   "metadata": {
    "collapsed": false
   },
   "outputs": [],
   "source": [
    "def load_keys(k):\n",
    "    unjsoned = json.loads(k)\n",
    "    loaded = tuple( ((tuple(unjsoned[0])), unjsoned[1] ))\n",
    "    return loaded\n",
    "loaded1 = {load_keys(k):v for k,v in agent1.items()}\n",
    "loaded2 = {load_keys(k):v for k,v in agent2.items()}\n",
    "states = set([tuple(json.loads(k)[0]) for k,v in agent1.items()])\n"
   ]
  },
  {
   "cell_type": "code",
   "execution_count": 32,
   "metadata": {
    "collapsed": false
   },
   "outputs": [
    {
     "data": {
      "text/plain": [
       "{((0, 'sleeping', 'running'), 'noop'): -70.84377516760976,\n",
       " ((0, 'sleeping', 'running'), 'wakeup'): -86.74938500205042,\n",
       " ((0, 'sleeping', 'sleeping'), 'noop'): -16.245833908155078,\n",
       " ((0, 'sleeping', 'sleeping'), 'wakeup'): -87.57300138744736,\n",
       " ((1, 'running', 'running'), 'go_to_sleep'): -60.05116646600487,\n",
       " ((1, 'running', 'running'), 'noop'): -42.56637684800944,\n",
       " ((1, 'running', 'sleeping'), 'go_to_sleep'): -37.91818477010871,\n",
       " ((1, 'running', 'sleeping'), 'noop'): -56.95631508277663,\n",
       " ((1, 'running', 'sleeping'), 'wakeup'): 2,\n",
       " ((1, 'sleeping', 'running'), 'noop'): -16.19324991686531,\n",
       " ((1, 'sleeping', 'running'), 'wakeup'): -13.649315909452008,\n",
       " ((1, 'sleeping', 'sleeping'), 'noop'): -12.531412237605947,\n",
       " ((1, 'sleeping', 'sleeping'), 'wakeup'): -12.130232533360937,\n",
       " ((2, 'running', 'running'), 'go_to_sleep'): -33.53022449797582,\n",
       " ((2, 'running', 'running'), 'noop'): -21.594175105008606,\n",
       " ((2, 'running', 'sleeping'), 'go_to_sleep'): -39.736052769051675,\n",
       " ((2, 'running', 'sleeping'), 'noop'): -38.371720259441865,\n",
       " ((2, 'sleeping', 'running'), 'noop'): -14.63467260311747,\n",
       " ((2, 'sleeping', 'running'), 'wakeup'): -11.06039718857639,\n",
       " ((2, 'sleeping', 'sleeping'), 'noop'): -8.96376870087042,\n",
       " ((2, 'sleeping', 'sleeping'), 'wakeup'): -11.11733342639579,\n",
       " ((3, 'running', 'running'), 'go_to_sleep'): -6.231634243093669,\n",
       " ((3, 'running', 'running'), 'noop'): -8.424890163825081,\n",
       " ((3, 'running', 'sleeping'), 'go_to_sleep'): -29.48665164438385,\n",
       " ((3, 'running', 'sleeping'), 'noop'): -29.846840634923375,\n",
       " ((3, 'sleeping', 'running'), 'noop'): -8.538349374329538,\n",
       " ((3, 'sleeping', 'running'), 'wakeup'): -12.228470400898097,\n",
       " ((3, 'sleeping', 'sleeping'), 'noop'): -8.012775301764055,\n",
       " ((3, 'sleeping', 'sleeping'), 'wakeup'): -6.939082630856892,\n",
       " ((4, 'running', 'running'), 'go_to_sleep'): -3.31503466553429,\n",
       " ((4, 'running', 'running'), 'noop'): 1.3776105406573467,\n",
       " ((4, 'running', 'sleeping'), 'go_to_sleep'): -9.171561554861324,\n",
       " ((4, 'running', 'sleeping'), 'noop'): -9.510115218048488,\n",
       " ((4, 'sleeping', 'running'), 'noop'): -9.767212628174006,\n",
       " ((4, 'sleeping', 'running'), 'wakeup'): -5.373476974340761,\n",
       " ((4, 'sleeping', 'sleeping'), 'noop'): -3.9411225439055095,\n",
       " ((4, 'sleeping', 'sleeping'), 'wakeup'): -4.311660602984478,\n",
       " ((5, 'running', 'running'), 'go_to_sleep'): -2.495764098724237,\n",
       " ((5, 'running', 'running'), 'noop'): 1.7911975836811602,\n",
       " ((5, 'running', 'sleeping'), 'go_to_sleep'): -12.252005941204686,\n",
       " ((5, 'running', 'sleeping'), 'noop'): -12.944558723102404}"
      ]
     },
     "execution_count": 32,
     "metadata": {},
     "output_type": "execute_result"
    }
   ],
   "source": [
    "loaded1"
   ]
  },
  {
   "cell_type": "code",
   "execution_count": 33,
   "metadata": {
    "collapsed": false
   },
   "outputs": [
    {
     "data": {
      "text/plain": [
       "{((0, 'running', 'running'), 'noop'): -20,\n",
       " ((0, 'sleeping', 'running'), 'noop'): 16.87516631652369,\n",
       " ((0, 'sleeping', 'running'), 'wakeup'): -20,\n",
       " ((1, 'running', 'running'), 'go_to_sleep'): 18.279182314709608,\n",
       " ((1, 'running', 'running'), 'noop'): -15.310148951190293,\n",
       " ((1, 'sleeping', 'running'), 'noop'): 19.36076915441063,\n",
       " ((1, 'sleeping', 'running'), 'wakeup'): 4.785325000292168,\n",
       " ((2, 'running', 'running'), 'go_to_sleep'): 19.407372661355364,\n",
       " ((2, 'running', 'running'), 'noop'): -0.6531771698915554,\n",
       " ((2, 'sleeping', 'running'), 'noop'): 19.710206440428284,\n",
       " ((2, 'sleeping', 'running'), 'wakeup'): 16.017060856051334,\n",
       " ((3, 'running', 'running'), 'go_to_sleep'): 19.70110113207335,\n",
       " ((3, 'running', 'running'), 'noop'): 16.41936805362262,\n",
       " ((3, 'sleeping', 'running'), 'noop'): 19.72823243509277,\n",
       " ((3, 'sleeping', 'running'), 'wakeup'): 19.045025710904785,\n",
       " ((4, 'running', 'running'), 'go_to_sleep'): 19.73604861212392,\n",
       " ((4, 'running', 'running'), 'noop'): 17.90109184817211,\n",
       " ((4, 'sleeping', 'running'), 'noop'): 19.74039440082179,\n",
       " ((4, 'sleeping', 'running'), 'wakeup'): 19.267029228723842,\n",
       " ((5, 'running', 'running'), 'go_to_sleep'): 18.684825561058002,\n",
       " ((5, 'running', 'running'), 'noop'): 19.71344791758755,\n",
       " ((5, 'sleeping', 'running'), 'noop'): 8.134961090948453,\n",
       " ((5, 'sleeping', 'running'), 'wakeup'): 19.608629850313363}"
      ]
     },
     "execution_count": 33,
     "metadata": {},
     "output_type": "execute_result"
    }
   ],
   "source": [
    "loaded2"
   ]
  },
  {
   "cell_type": "code",
   "execution_count": null,
   "metadata": {
    "collapsed": true
   },
   "outputs": [],
   "source": []
  },
  {
   "cell_type": "code",
   "execution_count": null,
   "metadata": {
    "collapsed": false
   },
   "outputs": [],
   "source": []
  },
  {
   "cell_type": "code",
   "execution_count": null,
   "metadata": {
    "collapsed": false
   },
   "outputs": [],
   "source": []
  },
  {
   "cell_type": "code",
   "execution_count": null,
   "metadata": {
    "collapsed": true
   },
   "outputs": [],
   "source": []
  }
 ],
 "metadata": {
  "kernelspec": {
   "display_name": "Python 3",
   "language": "python",
   "name": "python3"
  },
  "language_info": {
   "codemirror_mode": {
    "name": "ipython",
    "version": 3
   },
   "file_extension": ".py",
   "mimetype": "text/x-python",
   "name": "python",
   "nbconvert_exporter": "python",
   "pygments_lexer": "ipython3",
   "version": "3.4.3"
  }
 },
 "nbformat": 4,
 "nbformat_minor": 0
}
