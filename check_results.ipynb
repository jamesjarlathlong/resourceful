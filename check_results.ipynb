{
 "cells": [
  {
   "cell_type": "code",
   "execution_count": 24,
   "metadata": {
    "collapsed": true
   },
   "outputs": [],
   "source": [
    "import sklearn\n",
    "import json"
   ]
  },
  {
   "cell_type": "code",
   "execution_count": 25,
   "metadata": {
    "collapsed": false
   },
   "outputs": [],
   "source": [
    "agent1 = sklearn.externals.joblib.load('agent1_simpleworking')\n",
    "agent2 = sklearn.externals.joblib.load('agent2_simpleworking')"
   ]
  },
  {
   "cell_type": "code",
   "execution_count": 26,
   "metadata": {
    "collapsed": false
   },
   "outputs": [],
   "source": [
    "def load_keys(k):\n",
    "    unjsoned = json.loads(k)\n",
    "    loaded = tuple( ((tuple(unjsoned[0])), unjsoned[1] ))\n",
    "    return loaded\n",
    "loaded1 = {load_keys(k):v for k,v in agent1.items()}\n",
    "loaded2 = {load_keys(k):v for k,v in agent2.items()}\n",
    "states = set([tuple(json.loads(k)[0]) for k,v in agent1.items()])\n"
   ]
  },
  {
   "cell_type": "code",
   "execution_count": 27,
   "metadata": {
    "collapsed": false
   },
   "outputs": [
    {
     "data": {
      "text/plain": [
       "{((0, 'sleeping', 'running'), 'noop'): -29.809014612000382,\n",
       " ((0, 'sleeping', 'running'), 'wakeup'): -49.01626149450865,\n",
       " ((0, 'sleeping', 'sleeping'), 'noop'): -41.35970803242366,\n",
       " ((0, 'sleeping', 'sleeping'), 'wakeup'): -27.219107514485195,\n",
       " ((1, 'running', 'running'), 'go_to_sleep'): -29.549944326384274,\n",
       " ((1, 'running', 'running'), 'noop'): -29.483916175183367,\n",
       " ((1, 'running', 'sleeping'), 'go_to_sleep'): -35.650591772961505,\n",
       " ((1, 'running', 'sleeping'), 'noop'): -40.82773719483318,\n",
       " ((1, 'running', 'sleeping'), 'wakeup'): 2,\n",
       " ((1, 'sleeping', 'running'), 'noop'): -20.342536094219437,\n",
       " ((1, 'sleeping', 'running'), 'wakeup'): -24.07821661483716,\n",
       " ((1, 'sleeping', 'sleeping'), 'noop'): -23.18123796011742,\n",
       " ((1, 'sleeping', 'sleeping'), 'wakeup'): -25.864915041094193,\n",
       " ((2, 'running', 'running'), 'go_to_sleep'): -32.67455187815019,\n",
       " ((2, 'running', 'running'), 'noop'): -16.061555062046473,\n",
       " ((2, 'running', 'sleeping'), 'go_to_sleep'): -26.794688940300365,\n",
       " ((2, 'running', 'sleeping'), 'noop'): -31.372558513745236}"
      ]
     },
     "execution_count": 27,
     "metadata": {},
     "output_type": "execute_result"
    }
   ],
   "source": [
    "loaded1"
   ]
  },
  {
   "cell_type": "code",
   "execution_count": 28,
   "metadata": {
    "collapsed": false
   },
   "outputs": [
    {
     "data": {
      "text/plain": [
       "{((0, 'running', 'sleeping'), 'go_to_sleep'): -17.80738266750348,\n",
       " ((0, 'running', 'sleeping'), 'noop'): -17.09173127868278,\n",
       " ((0, 'sleeping', 'sleeping'), 'noop'): -16.841498269328337,\n",
       " ((0, 'sleeping', 'sleeping'), 'wakeup'): -20.322655730299445,\n",
       " ((1, 'running', 'running'), 'go_to_sleep'): 2,\n",
       " ((1, 'running', 'running'), 'noop'): 2,\n",
       " ((1, 'running', 'sleeping'), 'go_to_sleep'): -16.59394854363304,\n",
       " ((1, 'running', 'sleeping'), 'noop'): -23.79453540006547,\n",
       " ((1, 'sleeping', 'running'), 'wakeup'): 0.5999999999999999,\n",
       " ((1, 'sleeping', 'sleeping'), 'noop'): -13.554029009132103,\n",
       " ((1, 'sleeping', 'sleeping'), 'wakeup'): -14.178320952271994,\n",
       " ((2, 'running', 'sleeping'), 'go_to_sleep'): -17.735629746742504,\n",
       " ((2, 'running', 'sleeping'), 'noop'): -23.41670227877247,\n",
       " ((2, 'sleeping', 'sleeping'), 'noop'): -13.918122634065629,\n",
       " ((2, 'sleeping', 'sleeping'), 'wakeup'): -14.799729580122648}"
      ]
     },
     "execution_count": 28,
     "metadata": {},
     "output_type": "execute_result"
    }
   ],
   "source": [
    "loaded2"
   ]
  },
  {
   "cell_type": "code",
   "execution_count": null,
   "metadata": {
    "collapsed": true
   },
   "outputs": [],
   "source": []
  },
  {
   "cell_type": "code",
   "execution_count": null,
   "metadata": {
    "collapsed": false
   },
   "outputs": [],
   "source": []
  },
  {
   "cell_type": "code",
   "execution_count": null,
   "metadata": {
    "collapsed": false
   },
   "outputs": [],
   "source": []
  },
  {
   "cell_type": "code",
   "execution_count": null,
   "metadata": {
    "collapsed": true
   },
   "outputs": [],
   "source": []
  }
 ],
 "metadata": {
  "kernelspec": {
   "display_name": "Python 3",
   "language": "python",
   "name": "python3"
  },
  "language_info": {
   "codemirror_mode": {
    "name": "ipython",
    "version": 3
   },
   "file_extension": ".py",
   "mimetype": "text/x-python",
   "name": "python",
   "nbconvert_exporter": "python",
   "pygments_lexer": "ipython3",
   "version": "3.4.3"
  }
 },
 "nbformat": 4,
 "nbformat_minor": 0
}
