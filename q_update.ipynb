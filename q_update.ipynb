{
 "cells": [
  {
   "cell_type": "code",
   "execution_count": 35,
   "metadata": {
    "collapsed": true
   },
   "outputs": [],
   "source": [
    "import asyncio\n",
    "import functools\n",
    "def update(self, new_item):\n",
    "    priority_level = new_item[0]\n",
    "    def matching_level(element, priority_level):\n",
    "        return element[0]==priority_level\n",
    "    try:\n",
    "        match_generator = (index for index,element in enumerate(self._queue)\n",
    "                           if matching_level(element, priority_level))\n",
    "        matching_index = next(match_generator)\n",
    "        self._queue[matching_index] = new_item\n",
    "    except StopIteration:\n",
    "        self.put_nowait(new_item)\n",
    "asyncio.PriorityQueue.update = update\n",
    "q = asyncio.PriorityQueue(maxsize = 15)"
   ]
  },
  {
   "cell_type": "code",
   "execution_count": 36,
   "metadata": {
    "collapsed": true
   },
   "outputs": [],
   "source": [
    "def some_func(a):\n",
    "    print(a)\n",
    "one = functools.partial(some_func, 1)\n",
    "two = functools.partial(some_func, 2)\n",
    "three = functools.partial(some_func, 3)"
   ]
  },
  {
   "cell_type": "code",
   "execution_count": 39,
   "metadata": {
    "collapsed": true
   },
   "outputs": [],
   "source": [
    "q.put_nowait((0, one))"
   ]
  },
  {
   "cell_type": "code",
   "execution_count": 37,
   "metadata": {
    "collapsed": false
   },
   "outputs": [],
   "source": [
    "q.put_nowait((random.uniform(1.01, 1.99),two))"
   ]
  },
  {
   "cell_type": "code",
   "execution_count": 41,
   "metadata": {
    "collapsed": false
   },
   "outputs": [],
   "source": [
    "q.put_nowait((random.uniform(1.01, 1.99),three))"
   ]
  },
  {
   "cell_type": "code",
   "execution_count": 45,
   "metadata": {
    "collapsed": false
   },
   "outputs": [
    {
     "data": {
      "text/plain": [
       "(1.8020180397803611,\n",
       " functools.partial(<function some_func at 0x7f4c6d9c0048>, 2))"
      ]
     },
     "execution_count": 45,
     "metadata": {},
     "output_type": "execute_result"
    }
   ],
   "source": [
    "q.get_nowait()"
   ]
  },
  {
   "cell_type": "code",
   "execution_count": 27,
   "metadata": {
    "collapsed": false
   },
   "outputs": [
    {
     "data": {
      "text/plain": [
       "<PriorityQueue at 0x7f4c6d9b9f28 maxsize=15 _queue=[(1, functools.partial(<function some_func at 0x7f4c6de60f28>, 3)), (2, functools.partial(<function some_func at 0x7f4c6de60f28>, 2)), (4, functools.partial(<function some_func at 0x7f4c6de60f28>, 1))]>"
      ]
     },
     "execution_count": 27,
     "metadata": {},
     "output_type": "execute_result"
    }
   ],
   "source": []
  },
  {
   "cell_type": "code",
   "execution_count": 33,
   "metadata": {
    "collapsed": true
   },
   "outputs": [],
   "source": [
    "q.put_nowait((random.uniform(1.01, 1.99),one))"
   ]
  },
  {
   "cell_type": "code",
   "execution_count": 34,
   "metadata": {
    "collapsed": false
   },
   "outputs": [
    {
     "data": {
      "text/plain": [
       "<PriorityQueue at 0x7f4c6d9b9f28 maxsize=15 _queue=[(1, functools.partial(<function some_func at 0x7f4c6de60f28>, 3)), (1.1, functools.partial(<function some_func at 0x7f4c6de60f28>, 1)), (4, functools.partial(<function some_func at 0x7f4c6de60f28>, 1)), (2, functools.partial(<function some_func at 0x7f4c6de60f28>, 2)), (1.1883725737240785, functools.partial(<function some_func at 0x7f4c6de60f28>, 1))]>"
      ]
     },
     "execution_count": 34,
     "metadata": {},
     "output_type": "execute_result"
    }
   ],
   "source": [
    "q"
   ]
  },
  {
   "cell_type": "code",
   "execution_count": 32,
   "metadata": {
    "collapsed": false
   },
   "outputs": [
    {
     "data": {
      "text/plain": [
       "1.8815485511948773"
      ]
     },
     "execution_count": 32,
     "metadata": {},
     "output_type": "execute_result"
    }
   ],
   "source": [
    "import random\n",
    "random.uniform(1.01, 1.99)"
   ]
  },
  {
   "cell_type": "code",
   "execution_count": null,
   "metadata": {
    "collapsed": true
   },
   "outputs": [],
   "source": []
  }
 ],
 "metadata": {
  "kernelspec": {
   "display_name": "Python 3",
   "language": "python",
   "name": "python3"
  },
  "language_info": {
   "codemirror_mode": {
    "name": "ipython",
    "version": 3
   },
   "file_extension": ".py",
   "mimetype": "text/x-python",
   "name": "python",
   "nbconvert_exporter": "python",
   "pygments_lexer": "ipython3",
   "version": "3.4.3"
  }
 },
 "nbformat": 4,
 "nbformat_minor": 0
}
