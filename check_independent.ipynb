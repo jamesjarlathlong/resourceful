{
 "cells": [
  {
   "cell_type": "code",
   "execution_count": 1,
   "metadata": {
    "collapsed": false
   },
   "outputs": [
    {
     "name": "stderr",
     "output_type": "stream",
     "text": [
      "/usr/local/lib/python3.4/dist-packages/matplotlib/backends/backend_gtk3agg.py:18: UserWarning: The Gtk3Agg backend is known to not work on Python 3.x with pycairo. Try installing cairocffi.\n",
      "  \"The Gtk3Agg backend is known to not work on Python 3.x with pycairo. \"\n"
     ]
    }
   ],
   "source": [
    "import sklearn\n",
    "import json\n",
    "import operator\n",
    "import matplotlib.pyplot as plt\n",
    "import prettyplotlib as ppl\n",
    "%matplotlib inline\n",
    "agent1 = [sklearn.externals.joblib.load('agent1_ind')]\n",
    "agent2 = [sklearn.externals.joblib.load('agent2_ind')]\n",
    "hist1 = sklearn.externals.joblib.load('agent1_indhist')\n",
    "hist2 = sklearn.externals.joblib.load('agent2_indhist')"
   ]
  },
  {
   "cell_type": "code",
   "execution_count": 2,
   "metadata": {
    "collapsed": false
   },
   "outputs": [
    {
     "name": "stdout",
     "output_type": "stream",
     "text": [
      "(292, 1338, 3856, 0.07572614107883817, 0.34699170124481327)\n",
      "(352, 1122, 3787, 0.09294956429891735, 0.29627673620279904)\n"
     ]
    }
   ],
   "source": [
    "def loader(dictionary):\n",
    "    def load_keys(k):\n",
    "        unjsoned = json.loads(k)\n",
    "        loaded = tuple( ((tuple(unjsoned[0])), unjsoned[1] ))\n",
    "        return loaded\n",
    "    return {load_keys(k):v for k,v in dictionary.items()}\n",
    "def get_score(hist):\n",
    "    loaded = {k:len(json.loads(v)) for k,v in loader(hist).items()}\n",
    "    not_running = sum([v for k,v in loaded.items() if k[0][1] == 'sleeping' and k[0][2]=='sleeping'])\n",
    "    zero = sum([v for k,v in loaded.items() if k[0][0] == 0])\n",
    "    total = sum([v for k,v in loaded.items()])\n",
    "    return not_running, zero, total, not_running/total, zero/total\n",
    "def get_winners(dictionary):\n",
    "    states = set([k[0] for k,v in dictionary.items()])\n",
    "    winners = {}\n",
    "    for s in states:\n",
    "        matches = [(v, k[1]) for k,v in dictionary.items() if k[0]==s]\n",
    "        winners[s] = sorted(matches, key=operator.itemgetter(0))[::-1]\n",
    "    return {k: v[0][1] for k,v in winners.items()}\n",
    "print(get_score(hist1))\n",
    "print(get_score(hist2))"
   ]
  },
  {
   "cell_type": "code",
   "execution_count": 3,
   "metadata": {
    "collapsed": false
   },
   "outputs": [
    {
     "data": {
      "text/plain": [
       "[{(0, 'pending', 'pending'): 'go_to_sleep',\n",
       "  (0, 'pending', 'running'): 'go_to_sleep',\n",
       "  (0, 'pending', 'sleeping'): 'go_to_sleep',\n",
       "  (0, 'running', 'pending'): 'prepare_sleep',\n",
       "  (0, 'running', 'running'): 'prepare_sleep',\n",
       "  (0, 'running', 'sleeping'): 'prepare_sleep',\n",
       "  (0, 'sleeping', 'pending'): 'noop',\n",
       "  (0, 'sleeping', 'running'): 'noop',\n",
       "  (0, 'sleeping', 'sleeping'): 'wakeup',\n",
       "  (1, 'pending', 'pending'): 'go_to_sleep',\n",
       "  (1, 'pending', 'running'): 'go_to_sleep',\n",
       "  (1, 'pending', 'sleeping'): 'go_to_sleep',\n",
       "  (1, 'running', 'pending'): 'prepare_sleep',\n",
       "  (1, 'running', 'running'): 'prepare_sleep',\n",
       "  (1, 'running', 'sleeping'): 'prepare_sleep',\n",
       "  (1, 'sleeping', 'pending'): 'wakeup',\n",
       "  (1, 'sleeping', 'running'): 'wakeup',\n",
       "  (1, 'sleeping', 'sleeping'): 'wakeup',\n",
       "  (2, 'pending', 'pending'): 'go_to_sleep',\n",
       "  (2, 'pending', 'running'): 'go_to_sleep',\n",
       "  (2, 'pending', 'sleeping'): 'go_to_sleep',\n",
       "  (2, 'running', 'pending'): 'noop',\n",
       "  (2, 'running', 'running'): 'prepare_sleep',\n",
       "  (2, 'running', 'sleeping'): 'noop',\n",
       "  (2, 'sleeping', 'pending'): 'wakeup',\n",
       "  (2, 'sleeping', 'running'): 'wakeup',\n",
       "  (2, 'sleeping', 'sleeping'): 'wakeup',\n",
       "  (3, 'pending', 'running'): 'go_to_sleep',\n",
       "  (3, 'pending', 'sleeping'): 'go_to_sleep',\n",
       "  (3, 'running', 'pending'): 'noop',\n",
       "  (3, 'running', 'running'): 'wakeup',\n",
       "  (3, 'running', 'sleeping'): 'noop',\n",
       "  (3, 'sleeping', 'running'): 'wakeup',\n",
       "  (4, 'pending', 'running'): 'go_to_sleep',\n",
       "  (4, 'running', 'pending'): 'noop',\n",
       "  (4, 'running', 'running'): 'noop',\n",
       "  (4, 'running', 'sleeping'): 'noop',\n",
       "  (4, 'sleeping', 'pending'): 'wakeup',\n",
       "  (4, 'sleeping', 'running'): 'wakeup',\n",
       "  (4, 'sleeping', 'sleeping'): 'wakeup',\n",
       "  (5, 'pending', 'pending'): 'go_to_sleep',\n",
       "  (5, 'pending', 'sleeping'): 'go_to_sleep',\n",
       "  (5, 'running', 'pending'): 'noop',\n",
       "  (5, 'running', 'running'): 'noop',\n",
       "  (5, 'running', 'sleeping'): 'noop',\n",
       "  (5, 'sleeping', 'pending'): 'wakeup',\n",
       "  (5, 'sleeping', 'sleeping'): 'wakeup',\n",
       "  (6, 'pending', 'pending'): 'go_to_sleep',\n",
       "  (6, 'pending', 'running'): 'go_to_sleep',\n",
       "  (6, 'running', 'pending'): 'noop',\n",
       "  (6, 'running', 'running'): 'noop',\n",
       "  (6, 'running', 'sleeping'): 'noop',\n",
       "  (6, 'sleeping', 'pending'): 'wakeup',\n",
       "  (6, 'sleeping', 'running'): 'wakeup',\n",
       "  (6, 'sleeping', 'sleeping'): 'wakeup',\n",
       "  (7, 'pending', 'running'): 'go_to_sleep',\n",
       "  (7, 'running', 'pending'): 'noop',\n",
       "  (7, 'running', 'running'): 'noop',\n",
       "  (7, 'running', 'sleeping'): 'noop',\n",
       "  (7, 'sleeping', 'running'): 'wakeup',\n",
       "  (8, 'pending', 'running'): 'go_to_sleep',\n",
       "  (8, 'running', 'pending'): 'noop',\n",
       "  (8, 'running', 'running'): 'noop',\n",
       "  (8, 'running', 'sleeping'): 'noop',\n",
       "  (8, 'sleeping', 'pending'): 'wakeup',\n",
       "  (8, 'sleeping', 'running'): 'wakeup',\n",
       "  (8, 'sleeping', 'sleeping'): 'wakeup',\n",
       "  (9, 'pending', 'running'): 'go_to_sleep',\n",
       "  (9, 'pending', 'sleeping'): 'go_to_sleep',\n",
       "  (9, 'running', 'pending'): 'noop',\n",
       "  (9, 'running', 'running'): 'noop',\n",
       "  (9, 'running', 'sleeping'): 'prepare_sleep',\n",
       "  (9, 'sleeping', 'pending'): 'noop',\n",
       "  (10, 'running', 'pending'): 'noop',\n",
       "  (10, 'running', 'running'): 'noop',\n",
       "  (10, 'running', 'sleeping'): 'prepare_sleep',\n",
       "  (10, 'sleeping', 'running'): 'wakeup',\n",
       "  (11, 'pending', 'sleeping'): 'go_to_sleep',\n",
       "  (11, 'running', 'pending'): 'noop',\n",
       "  (11, 'running', 'running'): 'noop',\n",
       "  (11, 'sleeping', 'sleeping'): 'wakeup',\n",
       "  (12, 'running', 'running'): 'noop',\n",
       "  (12, 'running', 'sleeping'): 'prepare_sleep',\n",
       "  (12, 'sleeping', 'running'): 'wakeup',\n",
       "  (13, 'running', 'running'): 'noop',\n",
       "  (14, 'running', 'running'): 'noop'}]"
      ]
     },
     "execution_count": 3,
     "metadata": {},
     "output_type": "execute_result"
    }
   ],
   "source": [
    "loaded1 = [loader(i) for i in agent1]\n",
    "[get_winners(j) for j in loaded1]"
   ]
  },
  {
   "cell_type": "code",
   "execution_count": 4,
   "metadata": {
    "collapsed": false
   },
   "outputs": [
    {
     "data": {
      "text/plain": [
       "{((0, 'pending', 'pending'), 'go_to_sleep'): 104,\n",
       " ((0, 'pending', 'running'), 'go_to_sleep'): 267,\n",
       " ((0, 'pending', 'sleeping'), 'go_to_sleep'): 94,\n",
       " ((0, 'running', 'pending'), 'noop'): 4,\n",
       " ((0, 'running', 'pending'), 'prepare_sleep'): 19,\n",
       " ((0, 'running', 'running'), 'noop'): 9,\n",
       " ((0, 'running', 'running'), 'prepare_sleep'): 58,\n",
       " ((0, 'running', 'sleeping'), 'noop'): 4,\n",
       " ((0, 'running', 'sleeping'), 'prepare_sleep'): 34,\n",
       " ((0, 'sleeping', 'pending'), 'noop'): 52,\n",
       " ((0, 'sleeping', 'pending'), 'wakeup'): 98,\n",
       " ((0, 'sleeping', 'running'), 'noop'): 201,\n",
       " ((0, 'sleeping', 'running'), 'wakeup'): 190,\n",
       " ((0, 'sleeping', 'sleeping'), 'noop'): 49,\n",
       " ((0, 'sleeping', 'sleeping'), 'wakeup'): 155,\n",
       " ((1, 'pending', 'pending'), 'go_to_sleep'): 70,\n",
       " ((1, 'pending', 'running'), 'go_to_sleep'): 130,\n",
       " ((1, 'pending', 'sleeping'), 'go_to_sleep'): 59,\n",
       " ((1, 'running', 'pending'), 'noop'): 7,\n",
       " ((1, 'running', 'pending'), 'prepare_sleep'): 47,\n",
       " ((1, 'running', 'running'), 'noop'): 19,\n",
       " ((1, 'running', 'running'), 'prepare_sleep'): 200,\n",
       " ((1, 'running', 'sleeping'), 'noop'): 15,\n",
       " ((1, 'running', 'sleeping'), 'prepare_sleep'): 101,\n",
       " ((1, 'sleeping', 'pending'), 'wakeup'): 10,\n",
       " ((1, 'sleeping', 'running'), 'wakeup'): 18,\n",
       " ((1, 'sleeping', 'sleeping'), 'wakeup'): 7,\n",
       " ((2, 'pending', 'pending'), 'go_to_sleep'): 5,\n",
       " ((2, 'pending', 'running'), 'go_to_sleep'): 23,\n",
       " ((2, 'pending', 'sleeping'), 'go_to_sleep'): 3,\n",
       " ((2, 'running', 'pending'), 'noop'): 82,\n",
       " ((2, 'running', 'pending'), 'prepare_sleep'): 56,\n",
       " ((2, 'running', 'running'), 'noop'): 129,\n",
       " ((2, 'running', 'running'), 'prepare_sleep'): 213,\n",
       " ((2, 'running', 'sleeping'), 'noop'): 217,\n",
       " ((2, 'running', 'sleeping'), 'prepare_sleep'): 14,\n",
       " ((2, 'sleeping', 'pending'), 'noop'): 5,\n",
       " ((2, 'sleeping', 'pending'), 'wakeup'): 52,\n",
       " ((2, 'sleeping', 'running'), 'noop'): 5,\n",
       " ((2, 'sleeping', 'running'), 'wakeup'): 126,\n",
       " ((2, 'sleeping', 'sleeping'), 'noop'): 1,\n",
       " ((2, 'sleeping', 'sleeping'), 'wakeup'): 67,\n",
       " ((3, 'pending', 'running'), 'go_to_sleep'): 7,\n",
       " ((3, 'pending', 'sleeping'), 'go_to_sleep'): 5,\n",
       " ((3, 'running', 'pending'), 'noop'): 64,\n",
       " ((3, 'running', 'pending'), 'prepare_sleep'): 2,\n",
       " ((3, 'running', 'running'), 'noop'): 134,\n",
       " ((3, 'running', 'running'), 'prepare_sleep'): 1,\n",
       " ((3, 'running', 'sleeping'), 'noop'): 109,\n",
       " ((3, 'running', 'sleeping'), 'prepare_sleep'): 7,\n",
       " ((3, 'sleeping', 'running'), 'wakeup'): 2,\n",
       " ((4, 'running', 'pending'), 'noop'): 63,\n",
       " ((4, 'running', 'pending'), 'prepare_sleep'): 2,\n",
       " ((4, 'running', 'running'), 'noop'): 153,\n",
       " ((4, 'running', 'running'), 'prepare_sleep'): 5,\n",
       " ((4, 'running', 'sleeping'), 'noop'): 100,\n",
       " ((4, 'running', 'sleeping'), 'prepare_sleep'): 3,\n",
       " ((4, 'sleeping', 'pending'), 'noop'): 1,\n",
       " ((4, 'sleeping', 'pending'), 'wakeup'): 7,\n",
       " ((4, 'sleeping', 'running'), 'noop'): 1,\n",
       " ((4, 'sleeping', 'running'), 'wakeup'): 20,\n",
       " ((4, 'sleeping', 'sleeping'), 'noop'): 1,\n",
       " ((4, 'sleeping', 'sleeping'), 'wakeup'): 8,\n",
       " ((5, 'pending', 'pending'), 'go_to_sleep'): 1,\n",
       " ((5, 'pending', 'sleeping'), 'go_to_sleep'): 1,\n",
       " ((5, 'running', 'pending'), 'noop'): 5,\n",
       " ((5, 'running', 'running'), 'noop'): 25,\n",
       " ((5, 'running', 'sleeping'), 'noop'): 21,\n",
       " ((5, 'sleeping', 'pending'), 'wakeup'): 1,\n",
       " ((6, 'running', 'pending'), 'noop'): 10,\n",
       " ((6, 'running', 'running'), 'noop'): 27,\n",
       " ((6, 'running', 'running'), 'prepare_sleep'): 2,\n",
       " ((6, 'running', 'sleeping'), 'noop'): 20,\n",
       " ((6, 'sleeping', 'sleeping'), 'wakeup'): 4,\n",
       " ((7, 'running', 'running'), 'noop'): 3,\n",
       " ((7, 'running', 'sleeping'), 'noop'): 4,\n",
       " ((7, 'sleeping', 'running'), 'wakeup'): 1,\n",
       " ((8, 'pending', 'running'), 'go_to_sleep'): 1,\n",
       " ((8, 'running', 'pending'), 'noop'): 1,\n",
       " ((8, 'running', 'running'), 'noop'): 1,\n",
       " ((8, 'running', 'sleeping'), 'noop'): 3,\n",
       " ((8, 'sleeping', 'pending'), 'wakeup'): 2,\n",
       " ((9, 'pending', 'running'), 'go_to_sleep'): 3,\n",
       " ((9, 'running', 'pending'), 'noop'): 1,\n",
       " ((10, 'running', 'running'), 'noop'): 1,\n",
       " ((10, 'running', 'sleeping'), 'prepare_sleep'): 1,\n",
       " ((11, 'running', 'running'), 'noop'): 1,\n",
       " ((12, 'running', 'running'), 'noop'): 2}"
      ]
     },
     "execution_count": 4,
     "metadata": {},
     "output_type": "execute_result"
    }
   ],
   "source": [
    "{k:len(json.loads(v)) for k,v in loader(hist1).items()}"
   ]
  },
  {
   "cell_type": "code",
   "execution_count": 5,
   "metadata": {
    "collapsed": true
   },
   "outputs": [],
   "source": [
    "record = sklearn.externals.joblib.load('ind_writer')"
   ]
  },
  {
   "cell_type": "code",
   "execution_count": 8,
   "metadata": {
    "collapsed": false
   },
   "outputs": [],
   "source": [
    "one = [(i[0], i[1]['battery']) for i in record if i[1]['_id']==0]\n",
    "two = [(i[0], i[1]['battery']) for i in record if i[1]['_id']==1]"
   ]
  },
  {
   "cell_type": "code",
   "execution_count": 10,
   "metadata": {
    "collapsed": false
   },
   "outputs": [
    {
     "name": "stderr",
     "output_type": "stream",
     "text": [
      "/usr/local/lib/python3.4/dist-packages/matplotlib/__init__.py:872: UserWarning: axes.color_cycle is deprecated and replaced with axes.prop_cycle; please use the latter.\n",
      "  warnings.warn(self.msg_depr % (key, alt_key))\n"
     ]
    },
    {
     "data": {
      "text/plain": [
       "[<matplotlib.lines.Line2D at 0x7fd84c5bb710>]"
      ]
     },
     "execution_count": 10,
     "metadata": {},
     "output_type": "execute_result"
    },
    {
     "data": {
      "image/png": "[encoded data removed]",
      "text/plain": [
       "<matplotlib.figure.Figure at 0x7fd84c6546d8>"
      ]
     },
     "metadata": {},
     "output_type": "display_data"
    }
   ],
   "source": [
    "fig,ax = plt.subplots(1)\n",
    "ppl.plot(ax, [i[0] for i in one],[i[1] for i in one] )\n"
   ]
  },
  {
   "cell_type": "code",
   "execution_count": 19,
   "metadata": {
    "collapsed": false
   },
   "outputs": [
    {
     "name": "stderr",
     "output_type": "stream",
     "text": [
      "/usr/local/lib/python3.4/dist-packages/matplotlib/__init__.py:872: UserWarning: axes.color_cycle is deprecated and replaced with axes.prop_cycle; please use the latter.\n",
      "  warnings.warn(self.msg_depr % (key, alt_key))\n"
     ]
    },
    {
     "data": {
      "text/plain": [
       "[<matplotlib.lines.Line2D at 0x7fd84c218518>]"
      ]
     },
     "execution_count": 19,
     "metadata": {},
     "output_type": "execute_result"
    },
    {
     "data": {
      "image/png": "[encoded data removed]",
      "text/plain": [
       "<matplotlib.figure.Figure at 0x7fd84c24b940>"
      ]
     },
     "metadata": {},
     "output_type": "display_data"
    }
   ],
   "source": [
    "fig, ax = plt.subplots(1)\n",
    "ppl.plot(ax, [i[0] for i in one[2000:3000]],[i[1] for i in one[2000:3000]] )"
   ]
  },
  {
   "cell_type": "code",
   "execution_count": null,
   "metadata": {
    "collapsed": true
   },
   "outputs": [],
   "source": []
  }
 ],
 "metadata": {
  "kernelspec": {
   "display_name": "Python 3",
   "language": "python",
   "name": "python3"
  },
  "language_info": {
   "codemirror_mode": {
    "name": "ipython",
    "version": 3
   },
   "file_extension": ".py",
   "mimetype": "text/x-python",
   "name": "python",
   "nbconvert_exporter": "python",
   "pygments_lexer": "ipython3",
   "version": "3.4.3"
  }
 },
 "nbformat": 4,
 "nbformat_minor": 0
}
