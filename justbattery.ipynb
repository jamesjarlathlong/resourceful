{
 "metadata": {
  "name": ""
 },
 "nbformat": 3,
 "nbformat_minor": 0,
 "worksheets": [
  {
   "cells": [
    {
     "cell_type": "code",
     "collapsed": false,
     "input": [
      "import plotly\n",
      "import numpy as np \n",
      "import plotly.plotly as py  \n",
      "import plotly.tools as tls   \n",
      "import plotly.graph_objs as go\n",
      "plotly.tools.set_credentials_file(username='jamesjlong90', api_key='lc5ruh00ym', stream_ids=['uuvmw9qmk3'])\n",
      "import datetime\n",
      "stream_ids = tls.get_credentials_file()['stream_ids']\n",
      "print(stream_ids)\n",
      "# Get stream id from stream id list \n",
      "stream_id = stream_ids[0]\n",
      "\n",
      "# Make instance of stream id object \n",
      "stream_1 = go.Stream(\n",
      "    token=stream_id,  # link stream id to 'token' key\n",
      "    maxpoints=512      # keep a max of 80 pts on screen\n",
      ")\n",
      "# Initialize trace of streaming plot by embedding the unique stream_id\n",
      "trace1 = go.Scatter(\n",
      "    x=[],\n",
      "    y=[],\n",
      "    fillcolor = [],\n",
      "    mode='lines+markers',\n",
      "    stream=stream_1         # (!) embed stream id, 1 per trace\n",
      ")\n",
      "data = go.Data([trace1])\n",
      "\n",
      "# Add title to layout object\n",
      "layout = go.Layout(title='Time Series')\n",
      "\n",
      "# Make a figure object\n",
      "fig = go.Figure(data=data, layout=layout)\n",
      "\n",
      "# Send fig to Plotly, initialize streaming plot, open new tab\n",
      "py.iplot(fig, filename='python-streaming')\n",
      "\n",
      "# We will provide the stream link object the same token that's associated with the trace we wish to stream to\n",
      "s = py.Stream(stream_id)\n",
      "\n",
      "# We then open a connection\n",
      "s.open()"
     ],
     "language": "python",
     "metadata": {},
     "outputs": [
      {
       "output_type": "stream",
       "stream": "stdout",
       "text": [
        "['uuvmw9qmk3']\n",
        "High five! You successfuly sent some data to your account on plotly. View your plot in your browser at https://plot.ly/~jamesjlong90/0 or inside your plot.ly account where it is named 'python-streaming'"
       ]
      },
      {
       "output_type": "stream",
       "stream": "stdout",
       "text": [
        "\n"
       ]
      }
     ],
     "prompt_number": 1
    },
    {
     "cell_type": "code",
     "collapsed": false,
     "input": [
      "from agent import *"
     ],
     "language": "python",
     "metadata": {},
     "outputs": [],
     "prompt_number": 2
    },
    {
     "cell_type": "code",
     "collapsed": false,
     "input": [
      "import asyncio\n",
      "from qlearn import QLearn\n",
      "from sarsa import Sarsa\n",
      "import itertools\n",
      "import functools\n",
      "import json\n",
      "import random\n",
      "import sklearn\n",
      "\"\"\"define our agent\"\"\"\n",
      "#======states=========#\n",
      "battery = range(6)\n",
      "#hour = range(24)\n",
      "sleeping = [True, False]\n",
      "all_vars = [battery,sleeping]\n",
      "states = itertools.product(*all_vars)\n",
      "battery_index = 0\n",
      "sleeping_index = 1\n",
      "\n",
      "#======actions========#\n",
      "def go_to_sleep(old):\n",
      "    new = list(old)\n",
      "    new[sleeping_index] = True\n",
      "    #new[battery_index] = new[battery_index]+1\n",
      "    #if new[battery_index] >=10:\n",
      "    #    new[battery_index] = 10\n",
      "    return tuple(new)\n",
      "\n",
      "def wakeup(old_w):\n",
      "    new_w = list(old_w)\n",
      "    new_w[sleeping_index] = False\n",
      "    #new_w[battery_index]=new_w[battery_index]-1\n",
      "    #if new_w[battery_index] <0:\n",
      "    #    new_w[battery_index] = 0\n",
      "    return tuple(new_w)\n",
      "actions_states = {i:[go_to_sleep, wakeup] for i in states}\n",
      "#####rewards###########\n",
      "\n",
      "def state_rewards(state1, state2):\n",
      "\tif state2[battery_index] == 0:\n",
      "\t\treturn -10\n",
      "\telif not state1[sleeping_index] and not state2[sleeping_index]:\n",
      "\t\treturn 1\n",
      "\telse:\n",
      "\t\treturn 0\n",
      "\t###initial state###\n",
      "initial_state = (2,True)\n",
      "#monkey patch to write state to plot\n",
      "#monkey patch to write state to plot\n",
      "day = 0\n",
      "new_output_q = asyncio.Queue()\n",
      "def write_to_stream(self, state):\n",
      "    try:\n",
      "        self.iteration+=1\n",
      "    except:\n",
      "        self.iteration = 0\n",
      "    #s.write(dict(x=self.inc, y=state[battery_index]))\n",
      "    new_output_q.put_nowait({'x':self.iteration, 'y':state[battery_index]})\n",
      "    return\n",
      "Agent.state_writer = write_to_stream\n",
      "agent = Agent(actions_states, state_rewards, initial_state, wakeup, Sarsa)\n",
      "print('agent defined')\n",
      "\"\"\"now define our environment\"\"\"\n",
      "#=====autonomous actions=======#\n",
      "\n",
      "@asyncio.coroutine\n",
      "def battery_action():\n",
      "    battery = 0\n",
      "    sleeping = 1\n",
      "    sunny = True\n",
      "    def adjust_battery(is_sunny, old_pow):\n",
      "        new_pow = list(old_pow)\n",
      "        if new_pow[sleeping]:\n",
      "            new_pow[battery] += (1 + is_sunny*1) #increase by 1 if not sunny, by 2 if sunny\n",
      "        else:\n",
      "            new_pow[battery] -= (2 - is_sunny*1) #decrease by 2 if not sunny, 1 if sunny\n",
      "        if new_pow[battery]<=0:\n",
      "            new_pow[battery] = 0\n",
      "            new_pow[sleeping] = True\n",
      "        if new_pow[battery]>=5:\n",
      "            new_pow[battery] = 5\n",
      "            new_pow[sleeping] = False\n",
      "        return tuple(new_pow)\n",
      "    while True:\n",
      "        if random.random()<0.1:\n",
      "            sunny = not sunny\n",
      "        adjust_battery_sunny = functools.partial(adjust_battery, sunny)\n",
      "        yield from asyncio.sleep(1)\n",
      "        yield from sensing_q.put((1,adjust_battery_sunny))\n",
      "        print('sensing q: ', sensing_q.qsize())\n",
      "\n",
      "#======reactions to agent actions==========#\n",
      "def reaction_func(state1,state2, action):\n",
      "\treturn state2\n",
      "env_reactions = {'go_to_sleep':reaction_func, 'wakeup':reaction_func}\n",
      "env  = Environment(env_reactions,[battery_action])\n",
      "#======custom plotting====================#\n",
      "#======custom plotting====================#\n",
      "@asyncio.coroutine\n",
      "def plot():\n",
      "    while True:\n",
      "        d = yield from new_output_q.get()\n",
      "        s.write(dict(x=d['x'], y=d['y']))\n",
      "\"\"\"now run the simulation\"\"\"\n",
      "loop = asyncio.get_event_loop()\n",
      "sensing_q.put_nowait((1,wakeup))\n",
      "tasks = [agent.experience_environment(), env.react_to_action(), plot()]\n",
      "for i in env.env_actions:\n",
      "\ttasks.append(i())\n",
      "def loop_stopper():\n",
      "\tloop.stop()\n",
      "loop.call_later(100, loop_stopper) \n",
      "loop.run_until_complete(asyncio.wait(tasks))\n",
      "loop.close()"
     ],
     "language": "python",
     "metadata": {},
     "outputs": [
      {
       "output_type": "stream",
       "stream": "stdout",
       "text": [
        "agent defined\n",
        "learning:  (2, True) <function wakeup at 0x7f227be6a598> (2, False) 0\n",
        "put it on the q\n",
        "learning:  (2, False) <function go_to_sleep at 0x7f227be84f28> (2, True) 0\n",
        "put it on the q\n",
        "learning:  (2, True) <function wakeup at 0x7f227be6a598> (2, False) 0\n",
        "put it on the q\n",
        "no change in state (2, False) (2, False)\n",
        "sensing q: "
       ]
      },
      {
       "output_type": "stream",
       "stream": "stdout",
       "text": [
        " 1\n",
        "learning:  (2, False) <function wakeup at 0x7f227be6a598> (1, False) 1\n",
        "put it on the q\n",
        "learning:  (1, False) <function go_to_sleep at 0x7f227be84f28> (1, True) 0\n",
        "put it on the q\n",
        "learning:  (1, True) <function wakeup at 0x7f227be6a598> (1, False) 0\n",
        "put it on the q\n",
        "no change in state (1, False) (1, False)\n",
        "sensing q: "
       ]
      },
      {
       "output_type": "stream",
       "stream": "stdout",
       "text": [
        " 1\n",
        "learning:  (1, False) <function wakeup at 0x7f227be6a598> (0, True) -10\n",
        "put it on the q\n",
        "learning:  (0, True) <function wakeup at 0x7f227be6a598> (0, False) -10\n",
        "put it on the q\n",
        "no change in state (0, False) (0, False)\n",
        "sensing q: "
       ]
      },
      {
       "output_type": "stream",
       "stream": "stdout",
       "text": [
        " 1\n",
        "learning:  (0, False) <function wakeup at 0x7f227be6a598> (0, True) -10\n",
        "put it on the q\n",
        "no change in state (0, True) (0, True)\n",
        "sensing q: "
       ]
      },
      {
       "output_type": "stream",
       "stream": "stdout",
       "text": [
        " 1\n",
        "learning:  (0, True) <function go_to_sleep at 0x7f227be84f28> (2, True) 0\n",
        "put it on the q\n",
        "no change in state (2, True) (2, True)\n",
        "sensing q: "
       ]
      },
      {
       "output_type": "stream",
       "stream": "stdout",
       "text": [
        " 1\n",
        "learning:  (2, True) <function go_to_sleep at 0x7f227be84f28> (4, True) 0\n",
        "put it on the q\n",
        "no change in state (4, True) (4, True)\n",
        "sensing q: "
       ]
      },
      {
       "output_type": "stream",
       "stream": "stdout",
       "text": [
        " 1\n",
        "learning:  (4, True) <function go_to_sleep at 0x7f227be84f28> (5, False) 0\n",
        "put it on the q\n",
        "no change in state (5, False) (5, False)\n",
        "sensing q: "
       ]
      },
      {
       "output_type": "stream",
       "stream": "stdout",
       "text": [
        " 1\n",
        "learning:  (5, False) <function wakeup at 0x7f227be6a598> (4, False) 1\n",
        "put it on the q\n",
        "learning:  (4, False) <function go_to_sleep at 0x7f227be84f28> (4, True) 0\n",
        "put it on the q\n",
        "no change in state (4, True) (4, True)\n",
        "sensing q: "
       ]
      },
      {
       "output_type": "stream",
       "stream": "stdout",
       "text": [
        " 1\n",
        "learning:  (4, True) <function go_to_sleep at 0x7f227be84f28> (5, False) 0\n",
        "put it on the q\n",
        "no change in state (5, False) (5, False)\n",
        "sensing q: "
       ]
      },
      {
       "output_type": "stream",
       "stream": "stdout",
       "text": [
        " 1\n",
        "learning:  (5, False) <function wakeup at 0x7f227be6a598> (4, False) 1\n",
        "put it on the q\n",
        "no change in state (4, False) (4, False)\n",
        "sensing q: "
       ]
      },
      {
       "output_type": "stream",
       "stream": "stdout",
       "text": [
        " 1\n",
        "learning:  (4, False) <function wakeup at 0x7f227be6a598> (2, False) 1\n",
        "put it on the q\n",
        "no change in state (2, False) (2, False)\n",
        "sensing q: "
       ]
      },
      {
       "output_type": "stream",
       "stream": "stdout",
       "text": [
        " 1\n",
        "learning:  (2, False) <function wakeup at 0x7f227be6a598> (0, True) -10\n",
        "put it on the q\n",
        "no change in state (0, True) (0, True)\n",
        "sensing q: "
       ]
      },
      {
       "output_type": "stream",
       "stream": "stdout",
       "text": [
        " 1\n",
        "learning:  (0, True) <function go_to_sleep at 0x7f227be84f28> (1, True) 0\n",
        "put it on the q\n",
        "no change in state (1, True) (1, True)\n",
        "sensing q: "
       ]
      },
      {
       "output_type": "stream",
       "stream": "stdout",
       "text": [
        " 1\n",
        "learning:  (1, True) <function go_to_sleep at 0x7f227be84f28> (3, True) 0\n",
        "put it on the q\n",
        "no change in state (3, True) (3, True)\n",
        "sensing q: "
       ]
      },
      {
       "output_type": "stream",
       "stream": "stdout",
       "text": [
        " 1\n",
        "learning:  (3, True) <function go_to_sleep at 0x7f227be84f28> (5, False) 0\n",
        "put it on the q\n",
        "no change in state (5, False) (5, False)\n",
        "sensing q: "
       ]
      },
      {
       "output_type": "stream",
       "stream": "stdout",
       "text": [
        " 1\n",
        "learning:  (5, False) <function wakeup at 0x7f227be6a598> (4, False) 1\n",
        "put it on the q\n",
        "no change in state (4, False) (4, False)\n",
        "sensing q: "
       ]
      },
      {
       "output_type": "stream",
       "stream": "stdout",
       "text": [
        " 1\n",
        "learning:  (4, False) <function wakeup at 0x7f227be6a598> (3, False) 1\n",
        "put it on the q\n",
        "learning:  (3, False) <function go_to_sleep at 0x7f227be84f28> (3, True) 0\n",
        "put it on the q\n",
        "learning:  (3, True) <function wakeup at 0x7f227be6a598> (3, False) 0\n",
        "put it on the q\n",
        "learning:  (3, False) <function go_to_sleep at 0x7f227be84f28> (3, True) 0\n",
        "put it on the q\n",
        "no change in state (3, True) (3, True)\n",
        "sensing q: "
       ]
      },
      {
       "output_type": "stream",
       "stream": "stdout",
       "text": [
        " 1\n",
        "learning:  (3, True) <function go_to_sleep at 0x7f227be84f28> (4, True) 0\n",
        "put it on the q\n",
        "no change in state (4, True) (4, True)\n",
        "sensing q: "
       ]
      },
      {
       "output_type": "stream",
       "stream": "stdout",
       "text": [
        " 1\n",
        "learning:  (4, True) <function go_to_sleep at 0x7f227be84f28> (5, False) 0\n",
        "put it on the q\n",
        "no change in state (5, False) (5, False)\n",
        "sensing q: "
       ]
      },
      {
       "output_type": "stream",
       "stream": "stdout",
       "text": [
        " 1\n",
        "learning:  (5, False) <function wakeup at 0x7f227be6a598> (4, False) 1\n",
        "put it on the q\n",
        "no change in state (4, False) (4, False)\n",
        "sensing q: "
       ]
      },
      {
       "output_type": "stream",
       "stream": "stdout",
       "text": [
        " 1\n",
        "learning:  (4, False) <function wakeup at 0x7f227be6a598> (2, False) 1\n",
        "put it on the q\n",
        "learning:  (2, False) <function go_to_sleep at 0x7f227be84f28> (2, True) 0\n",
        "put it on the q\n",
        "learning:  (2, True) <function wakeup at 0x7f227be6a598> (2, False) 0\n",
        "put it on the q\n",
        "learning:  (2, False) <function go_to_sleep at 0x7f227be84f28> (2, True) 0\n",
        "put it on the q\n",
        "no change in state (2, True) (2, True)\n",
        "sensing q: "
       ]
      },
      {
       "output_type": "stream",
       "stream": "stdout",
       "text": [
        " 1\n",
        "learning:  (2, True) <function go_to_sleep at 0x7f227be84f28> (3, True) 0\n",
        "put it on the q\n",
        "no change in state (3, True) (3, True)\n",
        "sensing q: "
       ]
      },
      {
       "output_type": "stream",
       "stream": "stdout",
       "text": [
        " 1\n",
        "learning:  (3, True) <function go_to_sleep at 0x7f227be84f28> (4, True) 0\n",
        "put it on the q\n",
        "no change in state (4, True) (4, True)\n",
        "sensing q: "
       ]
      },
      {
       "output_type": "stream",
       "stream": "stdout",
       "text": [
        " 1\n",
        "learning:  (4, True) <function go_to_sleep at 0x7f227be84f28> (5, False) 0\n",
        "put it on the q\n",
        "no change in state (5, False) (5, False)\n",
        "sensing q: "
       ]
      },
      {
       "output_type": "stream",
       "stream": "stdout",
       "text": [
        " 1\n",
        "learning:  (5, False) <function wakeup at 0x7f227be6a598> (3, False) 1\n",
        "put it on the q\n",
        "learning:  (3, False) <function go_to_sleep at 0x7f227be84f28> (3, True) 0\n",
        "put it on the q\n",
        "no change in state (3, True) (3, True)\n",
        "sensing q: "
       ]
      },
      {
       "output_type": "stream",
       "stream": "stdout",
       "text": [
        " 1\n",
        "learning:  (3, True) <function go_to_sleep at 0x7f227be84f28> (5, False) 0\n",
        "put it on the q\n",
        "no change in state (5, False) (5, False)\n",
        "sensing q: "
       ]
      },
      {
       "output_type": "stream",
       "stream": "stdout",
       "text": [
        " 1\n",
        "learning:  (5, False) <function wakeup at 0x7f227be6a598> (4, False) 1\n",
        "put it on the q\n",
        "no change in state (4, False) (4, False)\n",
        "sensing q: "
       ]
      },
      {
       "output_type": "stream",
       "stream": "stdout",
       "text": [
        " 1\n",
        "learning:  (4, False) <function wakeup at 0x7f227be6a598> (3, False) 1\n",
        "put it on the q\n",
        "learning:  (3, False) <function go_to_sleep at 0x7f227be84f28> (3, True) 0\n",
        "put it on the q\n",
        "no change in state (3, True) (3, True)\n",
        "sensing q: "
       ]
      },
      {
       "output_type": "stream",
       "stream": "stdout",
       "text": [
        " 1\n",
        "learning:  (3, True) <function go_to_sleep at 0x7f227be84f28> (5, False) 0\n",
        "put it on the q\n",
        "no change in state (5, False) (5, False)\n",
        "sensing q: "
       ]
      },
      {
       "output_type": "stream",
       "stream": "stdout",
       "text": [
        " 1\n",
        "learning:  (5, False) <function wakeup at 0x7f227be6a598> (4, False) 1\n",
        "put it on the q\n",
        "no change in state (4, False) (4, False)\n",
        "sensing q: "
       ]
      },
      {
       "output_type": "stream",
       "stream": "stdout",
       "text": [
        " 1\n",
        "learning:  (4, False) <function wakeup at 0x7f227be6a598> (3, False) 1\n",
        "put it on the q\n",
        "learning:  (3, False) <function go_to_sleep at 0x7f227be84f28> (3, True) 0\n",
        "put it on the q\n",
        "learning:  (3, True) <function wakeup at 0x7f227be6a598> (3, False) 0\n",
        "put it on the q\n",
        "learning:  (3, False) <function go_to_sleep at 0x7f227be84f28> (3, True) 0\n",
        "put it on the q\n",
        "no change in state (3, True) (3, True)\n",
        "sensing q: "
       ]
      },
      {
       "output_type": "stream",
       "stream": "stdout",
       "text": [
        " 1\n",
        "learning:  (3, True) <function go_to_sleep at 0x7f227be84f28> (5, False) 0\n",
        "put it on the q\n",
        "no change in state (5, False) (5, False)\n",
        "sensing q: "
       ]
      },
      {
       "output_type": "stream",
       "stream": "stdout",
       "text": [
        " 1\n",
        "learning:  (5, False) <function wakeup at 0x7f227be6a598> (4, False) 1\n",
        "put it on the q\n",
        "no change in state (4, False) (4, False)\n",
        "sensing q: "
       ]
      },
      {
       "output_type": "stream",
       "stream": "stdout",
       "text": [
        " 1\n",
        "learning:  (4, False) <function wakeup at 0x7f227be6a598> (3, False) 1\n",
        "put it on the q\n",
        "learning:  (3, False) <function go_to_sleep at 0x7f227be84f28> (3, True) 0\n",
        "put it on the q\n",
        "no change in state (3, True) (3, True)\n",
        "sensing q: "
       ]
      },
      {
       "output_type": "stream",
       "stream": "stdout",
       "text": [
        " 1\n",
        "learning:  (3, True) <function go_to_sleep at 0x7f227be84f28> (5, False) 0\n",
        "put it on the q\n",
        "no change in state (5, False) (5, False)\n",
        "sensing q: "
       ]
      },
      {
       "output_type": "stream",
       "stream": "stdout",
       "text": [
        " 1\n",
        "learning:  (5, False) <function wakeup at 0x7f227be6a598> (4, False) 1\n",
        "put it on the q\n",
        "no change in state (4, False) (4, False)\n",
        "sensing q: "
       ]
      },
      {
       "output_type": "stream",
       "stream": "stdout",
       "text": [
        " 1\n",
        "learning:  (4, False) <function wakeup at 0x7f227be6a598> (3, False) 1\n",
        "put it on the q\n",
        "learning:  (3, False) <function go_to_sleep at 0x7f227be84f28> (3, True) 0\n",
        "put it on the q\n",
        "no change in state (3, True) (3, True)\n",
        "sensing q: "
       ]
      },
      {
       "output_type": "stream",
       "stream": "stdout",
       "text": [
        " 1\n",
        "learning:  (3, True) <function go_to_sleep at 0x7f227be84f28> (5, False) 0\n",
        "put it on the q\n",
        "no change in state (5, False) (5, False)\n",
        "sensing q: "
       ]
      },
      {
       "output_type": "stream",
       "stream": "stdout",
       "text": [
        " 1\n",
        "learning:  (5, False) <function wakeup at 0x7f227be6a598> (4, False) 1\n",
        "put it on the q\n",
        "no change in state (4, False) (4, False)\n",
        "sensing q: "
       ]
      },
      {
       "output_type": "stream",
       "stream": "stdout",
       "text": [
        " 1\n",
        "learning:  (4, False) <function wakeup at 0x7f227be6a598> (3, False) 1\n",
        "put it on the q\n",
        "learning:  (3, False) <function go_to_sleep at 0x7f227be84f28> (3, True) 0\n",
        "put it on the q\n",
        "no change in state (3, True) (3, True)\n",
        "sensing q: "
       ]
      },
      {
       "output_type": "stream",
       "stream": "stdout",
       "text": [
        " 1\n",
        "learning:  (3, True) <function go_to_sleep at 0x7f227be84f28> (5, False) 0\n",
        "put it on the q\n",
        "no change in state (5, False) (5, False)\n",
        "sensing q: "
       ]
      },
      {
       "output_type": "stream",
       "stream": "stdout",
       "text": [
        " 1\n",
        "learning:  (5, False) <function wakeup at 0x7f227be6a598> (4, False) 1\n",
        "put it on the q\n",
        "no change in state (4, False) (4, False)\n",
        "sensing q: "
       ]
      },
      {
       "output_type": "stream",
       "stream": "stdout",
       "text": [
        " 1\n",
        "learning:  (4, False) <function wakeup at 0x7f227be6a598> (2, False) 1\n",
        "put it on the q\n",
        "learning:  (2, False) <function go_to_sleep at 0x7f227be84f28> (2, True) 0\n",
        "put it on the q\n",
        "no change in state (2, True) (2, True)\n",
        "sensing q: "
       ]
      },
      {
       "output_type": "stream",
       "stream": "stdout",
       "text": [
        " 1\n",
        "learning:  (2, True) <function go_to_sleep at 0x7f227be84f28> (3, True) 0\n",
        "put it on the q\n",
        "no change in state (3, True) (3, True)\n",
        "sensing q: "
       ]
      },
      {
       "output_type": "stream",
       "stream": "stdout",
       "text": [
        " 1\n",
        "learning:  (3, True) <function go_to_sleep at 0x7f227be84f28> (5, False) 0\n",
        "put it on the q\n",
        "no change in state (5, False) (5, False)\n",
        "sensing q: "
       ]
      },
      {
       "output_type": "stream",
       "stream": "stdout",
       "text": [
        " 1\n",
        "learning:  (5, False) <function wakeup at 0x7f227be6a598> (4, False) 1\n",
        "put it on the q\n",
        "no change in state (4, False) (4, False)\n",
        "sensing q: "
       ]
      },
      {
       "output_type": "stream",
       "stream": "stdout",
       "text": [
        " 1\n",
        "learning:  (4, False) <function wakeup at 0x7f227be6a598> (3, False) 1\n",
        "put it on the q\n",
        "learning:  (3, False) <function go_to_sleep at 0x7f227be84f28> (3, True) 0\n",
        "put it on the q\n",
        "no change in state (3, True) (3, True)\n",
        "sensing q: "
       ]
      },
      {
       "output_type": "stream",
       "stream": "stdout",
       "text": [
        " 1\n",
        "learning:  (3, True) <function go_to_sleep at 0x7f227be84f28> (5, False) 0\n",
        "put it on the q\n",
        "no change in state (5, False) (5, False)\n",
        "sensing q: "
       ]
      },
      {
       "output_type": "stream",
       "stream": "stdout",
       "text": [
        " 1\n",
        "learning:  (5, False) <function wakeup at 0x7f227be6a598> (4, False) 1\n",
        "put it on the q\n",
        "no change in state (4, False) (4, False)\n",
        "sensing q: "
       ]
      },
      {
       "output_type": "stream",
       "stream": "stdout",
       "text": [
        " 1\n",
        "learning:  (4, False) <function wakeup at 0x7f227be6a598> (2, False) 1\n",
        "put it on the q\n",
        "learning:  (2, False) <function go_to_sleep at 0x7f227be84f28> (2, True) 0\n",
        "put it on the q\n",
        "no change in state (2, True) (2, True)\n",
        "sensing q: "
       ]
      },
      {
       "output_type": "stream",
       "stream": "stdout",
       "text": [
        " 1\n",
        "learning:  (2, True) <function go_to_sleep at 0x7f227be84f28> (3, True) 0\n",
        "put it on the q\n",
        "no change in state (3, True) (3, True)\n",
        "sensing q: "
       ]
      },
      {
       "output_type": "stream",
       "stream": "stdout",
       "text": [
        " 1\n",
        "learning:  (3, True) <function go_to_sleep at 0x7f227be84f28> (4, True) 0\n",
        "put it on the q\n",
        "no change in state (4, True) (4, True)\n",
        "sensing q: "
       ]
      },
      {
       "output_type": "stream",
       "stream": "stdout",
       "text": [
        " 1\n",
        "learning:  (4, True) <function go_to_sleep at 0x7f227be84f28> (5, False) 0\n",
        "put it on the q\n",
        "no change in state (5, False) (5, False)\n",
        "sensing q: "
       ]
      },
      {
       "output_type": "stream",
       "stream": "stdout",
       "text": [
        " 1\n",
        "learning:  (5, False) <function wakeup at 0x7f227be6a598> (3, False) 1\n",
        "put it on the q\n",
        "learning:  (3, False) <function go_to_sleep at 0x7f227be84f28> (3, True) 0\n",
        "put it on the q\n",
        "no change in state (3, True) (3, True)\n",
        "sensing q: "
       ]
      },
      {
       "output_type": "stream",
       "stream": "stdout",
       "text": [
        " 1\n",
        "learning:  (3, True) <function go_to_sleep at 0x7f227be84f28> (4, True) 0\n",
        "put it on the q\n",
        "no change in state (4, True) (4, True)\n",
        "sensing q: "
       ]
      },
      {
       "output_type": "stream",
       "stream": "stdout",
       "text": [
        " 1\n",
        "learning:  (4, True) <function go_to_sleep at 0x7f227be84f28> (5, False) 0\n",
        "put it on the q\n",
        "no change in state (5, False) (5, False)\n",
        "sensing q: "
       ]
      },
      {
       "output_type": "stream",
       "stream": "stdout",
       "text": [
        " 1\n",
        "learning:  (5, False) <function wakeup at 0x7f227be6a598> (3, False) 1\n",
        "put it on the q\n",
        "learning:  (3, False) <function go_to_sleep at 0x7f227be84f28> (3, True) 0\n",
        "put it on the q\n",
        "no change in state (3, True) (3, True)\n",
        "sensing q: "
       ]
      },
      {
       "output_type": "stream",
       "stream": "stdout",
       "text": [
        " 1\n",
        "learning:  (3, True) <function go_to_sleep at 0x7f227be84f28> (4, True) 0\n",
        "put it on the q\n",
        "no change in state (4, True) (4, True)\n",
        "sensing q: "
       ]
      },
      {
       "output_type": "stream",
       "stream": "stdout",
       "text": [
        " 1\n",
        "learning:  (4, True) <function go_to_sleep at 0x7f227be84f28> (5, False) 0\n",
        "put it on the q\n",
        "no change in state (5, False) (5, False)\n",
        "sensing q: "
       ]
      },
      {
       "output_type": "stream",
       "stream": "stdout",
       "text": [
        " 1\n",
        "learning:  (5, False) <function wakeup at 0x7f227be6a598> (3, False) 1\n",
        "put it on the q\n",
        "learning:  (3, False) <function go_to_sleep at 0x7f227be84f28> (3, True) 0\n",
        "put it on the q\n",
        "no change in state (3, True) (3, True)\n",
        "sensing q: "
       ]
      },
      {
       "output_type": "stream",
       "stream": "stdout",
       "text": [
        " 1\n",
        "learning:  (3, True) <function go_to_sleep at 0x7f227be84f28> (4, True) 0\n",
        "put it on the q\n",
        "no change in state (4, True) (4, True)\n",
        "sensing q: "
       ]
      },
      {
       "output_type": "stream",
       "stream": "stdout",
       "text": [
        " 1\n",
        "learning:  (4, True) <function go_to_sleep at 0x7f227be84f28> (5, False) 0\n",
        "put it on the q\n",
        "no change in state (5, False) (5, False)\n",
        "sensing q: "
       ]
      },
      {
       "output_type": "stream",
       "stream": "stdout",
       "text": [
        " 1\n",
        "learning:  (5, False) <function wakeup at 0x7f227be6a598> (3, False) 1\n",
        "put it on the q\n",
        "learning:  (3, False) <function go_to_sleep at 0x7f227be84f28> (3, True) 0\n",
        "put it on the q\n",
        "no change in state (3, True) (3, True)\n",
        "sensing q: "
       ]
      },
      {
       "output_type": "stream",
       "stream": "stdout",
       "text": [
        " 1\n",
        "learning:  (3, True) <function go_to_sleep at 0x7f227be84f28> (4, True) 0\n",
        "put it on the q\n",
        "no change in state (4, True) (4, True)\n",
        "sensing q: "
       ]
      },
      {
       "output_type": "stream",
       "stream": "stdout",
       "text": [
        " 1\n",
        "learning:  (4, True) <function go_to_sleep at 0x7f227be84f28> (5, False) 0\n",
        "put it on the q\n",
        "no change in state (5, False) (5, False)\n",
        "sensing q: "
       ]
      },
      {
       "output_type": "stream",
       "stream": "stdout",
       "text": [
        " 1\n",
        "learning:  (5, False) <function wakeup at 0x7f227be6a598> (3, False) 1\n",
        "put it on the q\n",
        "learning:  (3, False) <function go_to_sleep at 0x7f227be84f28> (3, True) 0\n",
        "put it on the q\n",
        "no change in state (3, True) (3, True)\n",
        "sensing q: "
       ]
      },
      {
       "output_type": "stream",
       "stream": "stdout",
       "text": [
        " 1\n",
        "learning:  (3, True) <function go_to_sleep at 0x7f227be84f28> (4, True) 0\n",
        "put it on the q\n",
        "no change in state (4, True) (4, True)\n",
        "sensing q: "
       ]
      },
      {
       "output_type": "stream",
       "stream": "stdout",
       "text": [
        " 1\n",
        "learning:  (4, True) <function go_to_sleep at 0x7f227be84f28> (5, False) 0\n",
        "put it on the q\n",
        "no change in state (5, False) (5, False)\n",
        "sensing q: "
       ]
      },
      {
       "output_type": "stream",
       "stream": "stdout",
       "text": [
        " 1\n",
        "learning:  (5, False) <function wakeup at 0x7f227be6a598> (3, False) 1\n",
        "put it on the q\n",
        "learning:  (3, False) <function go_to_sleep at 0x7f227be84f28> (3, True) 0\n",
        "put it on the q\n",
        "no change in state (3, True) (3, True)\n",
        "sensing q: "
       ]
      },
      {
       "output_type": "stream",
       "stream": "stdout",
       "text": [
        " 1\n",
        "learning:  (3, True) <function go_to_sleep at 0x7f227be84f28> (4, True) 0\n",
        "put it on the q\n",
        "no change in state (4, True) (4, True)\n",
        "sensing q: "
       ]
      },
      {
       "output_type": "stream",
       "stream": "stdout",
       "text": [
        " 1\n",
        "learning:  (4, True) <function go_to_sleep at 0x7f227be84f28> (5, False) 0\n",
        "put it on the q\n",
        "no change in state (5, False) (5, False)\n",
        "sensing q: "
       ]
      },
      {
       "output_type": "stream",
       "stream": "stdout",
       "text": [
        " 1\n",
        "learning:  (5, False) <function wakeup at 0x7f227be6a598> (3, False) 1\n",
        "put it on the q\n",
        "learning:  (3, False) <function go_to_sleep at 0x7f227be84f28> (3, True) 0\n",
        "put it on the q\n",
        "no change in state (3, True) (3, True)\n",
        "sensing q: "
       ]
      },
      {
       "output_type": "stream",
       "stream": "stdout",
       "text": [
        " 1\n",
        "learning:  (3, True) <function go_to_sleep at 0x7f227be84f28> (4, True) 0\n",
        "put it on the q\n",
        "no change in state (4, True) (4, True)\n",
        "sensing q: "
       ]
      },
      {
       "output_type": "stream",
       "stream": "stdout",
       "text": [
        " 1\n",
        "learning:  (4, True) <function go_to_sleep at 0x7f227be84f28> (5, False) 0\n",
        "put it on the q\n",
        "no change in state (5, False) (5, False)\n",
        "sensing q: "
       ]
      },
      {
       "output_type": "stream",
       "stream": "stdout",
       "text": [
        " 1\n",
        "learning:  (5, False) <function wakeup at 0x7f227be6a598> (3, False) 1\n",
        "put it on the q\n",
        "learning:  (3, False) <function go_to_sleep at 0x7f227be84f28> (3, True) 0\n",
        "put it on the q\n",
        "no change in state (3, True) (3, True)\n",
        "sensing q: "
       ]
      },
      {
       "output_type": "stream",
       "stream": "stdout",
       "text": [
        " 1\n",
        "learning:  (3, True) <function go_to_sleep at 0x7f227be84f28> (4, True) 0\n",
        "put it on the q\n",
        "no change in state (4, True) (4, True)\n",
        "sensing q: "
       ]
      },
      {
       "output_type": "stream",
       "stream": "stdout",
       "text": [
        " 1\n",
        "learning:  (4, True) <function go_to_sleep at 0x7f227be84f28> (5, False) 0\n",
        "put it on the q\n",
        "no change in state (5, False) (5, False)\n",
        "sensing q: "
       ]
      },
      {
       "output_type": "stream",
       "stream": "stdout",
       "text": [
        " 1\n",
        "learning:  (5, False) <function wakeup at 0x7f227be6a598> (3, False) 1\n",
        "put it on the q\n",
        "learning:  (3, False) <function go_to_sleep at 0x7f227be84f28> (3, True) 0\n",
        "put it on the q\n",
        "no change in state (3, True) (3, True)\n",
        "sensing q: "
       ]
      },
      {
       "output_type": "stream",
       "stream": "stdout",
       "text": [
        " 1\n",
        "learning:  (3, True) <function go_to_sleep at 0x7f227be84f28> (4, True) 0\n",
        "put it on the q\n",
        "no change in state (4, True) (4, True)\n",
        "sensing q: "
       ]
      },
      {
       "output_type": "stream",
       "stream": "stdout",
       "text": [
        " 1\n",
        "learning:  (4, True) <function go_to_sleep at 0x7f227be84f28> (5, False) 0\n",
        "put it on the q\n",
        "no change in state (5, False) (5, False)\n",
        "sensing q: "
       ]
      },
      {
       "output_type": "stream",
       "stream": "stdout",
       "text": [
        " 1\n",
        "learning:  (5, False) <function wakeup at 0x7f227be6a598> (3, False) 1\n",
        "put it on the q\n",
        "learning:  (3, False) <function go_to_sleep at 0x7f227be84f28> (3, True) 0\n",
        "put it on the q\n",
        "no change in state (3, True) (3, True)\n",
        "sensing q: "
       ]
      },
      {
       "output_type": "stream",
       "stream": "stdout",
       "text": [
        " 1\n",
        "learning:  (3, True) <function go_to_sleep at 0x7f227be84f28> (4, True) 0\n",
        "put it on the q\n",
        "no change in state (4, True) (4, True)\n",
        "sensing q: "
       ]
      },
      {
       "output_type": "stream",
       "stream": "stdout",
       "text": [
        " 1\n",
        "learning:  (4, True) <function go_to_sleep at 0x7f227be84f28> (5, False) 0\n",
        "put it on the q\n",
        "no change in state (5, False) (5, False)\n",
        "sensing q: "
       ]
      },
      {
       "output_type": "stream",
       "stream": "stdout",
       "text": [
        " 1\n",
        "learning:  (5, False) <function wakeup at 0x7f227be6a598> (3, False) 1\n",
        "put it on the q\n",
        "learning:  (3, False) <function go_to_sleep at 0x7f227be84f28> (3, True) 0\n",
        "put it on the q\n",
        "no change in state (3, True) (3, True)\n",
        "sensing q: "
       ]
      },
      {
       "output_type": "stream",
       "stream": "stdout",
       "text": [
        " 1\n",
        "learning:  (3, True) <function go_to_sleep at 0x7f227be84f28> (4, True) 0\n",
        "put it on the q\n",
        "no change in state (4, True) (4, True)\n",
        "sensing q: "
       ]
      },
      {
       "output_type": "stream",
       "stream": "stdout",
       "text": [
        " 1\n",
        "learning:  (4, True) <function go_to_sleep at 0x7f227be84f28> (5, False) 0\n",
        "put it on the q\n",
        "no change in state (5, False) (5, False)\n",
        "sensing q: "
       ]
      },
      {
       "output_type": "stream",
       "stream": "stdout",
       "text": [
        " 1\n",
        "learning:  (5, False) <function wakeup at 0x7f227be6a598> (3, False) 1\n",
        "put it on the q\n",
        "learning:  (3, False) <function go_to_sleep at 0x7f227be84f28> (3, True) 0\n",
        "put it on the q\n",
        "no change in state (3, True) (3, True)\n",
        "sensing q: "
       ]
      },
      {
       "output_type": "stream",
       "stream": "stdout",
       "text": [
        " 1\n",
        "learning:  (3, True) <function go_to_sleep at 0x7f227be84f28> (4, True) 0\n",
        "put it on the q\n",
        "no change in state (4, True) (4, True)\n",
        "sensing q: "
       ]
      },
      {
       "output_type": "stream",
       "stream": "stdout",
       "text": [
        " 1\n",
        "learning:  (4, True) <function go_to_sleep at 0x7f227be84f28> (5, False) 0\n",
        "put it on the q\n",
        "no change in state (5, False) (5, False)\n",
        "sensing q: "
       ]
      },
      {
       "output_type": "stream",
       "stream": "stdout",
       "text": [
        " 1\n",
        "learning:  (5, False) <function wakeup at 0x7f227be6a598> (3, False) 1\n",
        "put it on the q\n",
        "learning:  (3, False) <function go_to_sleep at 0x7f227be84f28> (3, True) 0\n",
        "put it on the q\n",
        "no change in state (3, True) (3, True)\n",
        "sensing q: "
       ]
      },
      {
       "output_type": "stream",
       "stream": "stdout",
       "text": [
        " 1\n",
        "learning:  (3, True) <function go_to_sleep at 0x7f227be84f28> (5, False) 0\n",
        "put it on the q\n",
        "no change in state (5, False) (5, False)\n",
        "sensing q: "
       ]
      },
      {
       "output_type": "stream",
       "stream": "stdout",
       "text": [
        " 1\n",
        "learning:  (5, False) <function wakeup at 0x7f227be6a598> (4, False) 1\n",
        "put it on the q\n",
        "learning:  (4, False) <function go_to_sleep at 0x7f227be84f28> (4, True) 0\n",
        "put it on the q\n",
        "no change in state (4, True) (4, True)\n",
        "sensing q: "
       ]
      },
      {
       "output_type": "stream",
       "stream": "stdout",
       "text": [
        " 1\n",
        "learning:  (4, True) <function go_to_sleep at 0x7f227be84f28> (5, False) 0\n",
        "put it on the q\n",
        "no change in state (5, False) (5, False)\n",
        "sensing q: "
       ]
      },
      {
       "output_type": "stream",
       "stream": "stdout",
       "text": [
        " 1\n",
        "learning:  (5, False) <function wakeup at 0x7f227be6a598> (4, False) 1\n",
        "put it on the q\n",
        "no change in state (4, False) (4, False)\n",
        "sensing q: "
       ]
      },
      {
       "output_type": "stream",
       "stream": "stdout",
       "text": [
        " 1\n",
        "learning:  (4, False) <function wakeup at 0x7f227be6a598> (3, False) 1\n",
        "put it on the q\n",
        "learning:  (3, False) <function go_to_sleep at 0x7f227be84f28> (3, True) 0\n",
        "put it on the q\n",
        "no change in state (3, True) (3, True)\n",
        "sensing q: "
       ]
      },
      {
       "output_type": "stream",
       "stream": "stdout",
       "text": [
        " 1\n",
        "learning:  (3, True) <function go_to_sleep at 0x7f227be84f28> (4, True) 0\n",
        "put it on the q\n",
        "no change in state (4, True) (4, True)\n",
        "sensing q: "
       ]
      },
      {
       "output_type": "stream",
       "stream": "stdout",
       "text": [
        " 1\n",
        "learning:  (4, True) <function go_to_sleep at 0x7f227be84f28> (5, False) 0\n",
        "put it on the q\n",
        "no change in state (5, False) (5, False)\n",
        "sensing q: "
       ]
      },
      {
       "output_type": "stream",
       "stream": "stdout",
       "text": [
        " 1\n",
        "learning:  (5, False) <function wakeup at 0x7f227be6a598> (3, False) 1\n",
        "put it on the q\n",
        "learning:  (3, False) <function go_to_sleep at 0x7f227be84f28> (3, True) 0\n",
        "put it on the q\n",
        "no change in state (3, True) (3, True)\n",
        "sensing q: "
       ]
      },
      {
       "output_type": "stream",
       "stream": "stdout",
       "text": [
        " 1\n",
        "learning:  (3, True) <function go_to_sleep at 0x7f227be84f28> (4, True) 0\n",
        "put it on the q\n",
        "no change in state (4, True) (4, True)\n",
        "sensing q: "
       ]
      },
      {
       "ename": "RuntimeError",
       "evalue": "Event loop stopped before Future completed.",
       "output_type": "pyerr",
       "traceback": [
        "\u001b[0;31m---------------------------------------------------------------------------\u001b[0m\n\u001b[0;31mRuntimeError\u001b[0m                              Traceback (most recent call last)",
        "\u001b[0;32m<ipython-input-3-39ad8895081a>\u001b[0m in \u001b[0;36m<module>\u001b[0;34m()\u001b[0m\n\u001b[1;32m    110\u001b[0m         \u001b[0mloop\u001b[0m\u001b[0;34m.\u001b[0m\u001b[0mstop\u001b[0m\u001b[0;34m(\u001b[0m\u001b[0;34m)\u001b[0m\u001b[0;34m\u001b[0m\u001b[0m\n\u001b[1;32m    111\u001b[0m \u001b[0mloop\u001b[0m\u001b[0;34m.\u001b[0m\u001b[0mcall_later\u001b[0m\u001b[0;34m(\u001b[0m\u001b[0;36m100\u001b[0m\u001b[0;34m,\u001b[0m \u001b[0mloop_stopper\u001b[0m\u001b[0;34m)\u001b[0m\u001b[0;34m\u001b[0m\u001b[0m\n\u001b[0;32m--> 112\u001b[0;31m \u001b[0mloop\u001b[0m\u001b[0;34m.\u001b[0m\u001b[0mrun_until_complete\u001b[0m\u001b[0;34m(\u001b[0m\u001b[0masyncio\u001b[0m\u001b[0;34m.\u001b[0m\u001b[0mwait\u001b[0m\u001b[0;34m(\u001b[0m\u001b[0mtasks\u001b[0m\u001b[0;34m)\u001b[0m\u001b[0;34m)\u001b[0m\u001b[0;34m\u001b[0m\u001b[0m\n\u001b[0m\u001b[1;32m    113\u001b[0m \u001b[0mloop\u001b[0m\u001b[0;34m.\u001b[0m\u001b[0mclose\u001b[0m\u001b[0;34m(\u001b[0m\u001b[0;34m)\u001b[0m\u001b[0;34m\u001b[0m\u001b[0m\n",
        "\u001b[0;32m/usr/lib/python3.4/asyncio/base_events.py\u001b[0m in \u001b[0;36mrun_until_complete\u001b[0;34m(self, future)\u001b[0m\n\u001b[1;32m    312\u001b[0m         \u001b[0mfuture\u001b[0m\u001b[0;34m.\u001b[0m\u001b[0mremove_done_callback\u001b[0m\u001b[0;34m(\u001b[0m\u001b[0m_run_until_complete_cb\u001b[0m\u001b[0;34m)\u001b[0m\u001b[0;34m\u001b[0m\u001b[0m\n\u001b[1;32m    313\u001b[0m         \u001b[0;32mif\u001b[0m \u001b[0;32mnot\u001b[0m \u001b[0mfuture\u001b[0m\u001b[0;34m.\u001b[0m\u001b[0mdone\u001b[0m\u001b[0;34m(\u001b[0m\u001b[0;34m)\u001b[0m\u001b[0;34m:\u001b[0m\u001b[0;34m\u001b[0m\u001b[0m\n\u001b[0;32m--> 314\u001b[0;31m             \u001b[0;32mraise\u001b[0m \u001b[0mRuntimeError\u001b[0m\u001b[0;34m(\u001b[0m\u001b[0;34m'Event loop stopped before Future completed.'\u001b[0m\u001b[0;34m)\u001b[0m\u001b[0;34m\u001b[0m\u001b[0m\n\u001b[0m\u001b[1;32m    315\u001b[0m \u001b[0;34m\u001b[0m\u001b[0m\n\u001b[1;32m    316\u001b[0m         \u001b[0;32mreturn\u001b[0m \u001b[0mfuture\u001b[0m\u001b[0;34m.\u001b[0m\u001b[0mresult\u001b[0m\u001b[0;34m(\u001b[0m\u001b[0;34m)\u001b[0m\u001b[0;34m\u001b[0m\u001b[0m\n",
        "\u001b[0;31mRuntimeError\u001b[0m: Event loop stopped before Future completed."
       ]
      },
      {
       "output_type": "stream",
       "stream": "stdout",
       "text": [
        " 1\n",
        "learning:  (4, True) <function go_to_sleep at 0x7f227be84f28> (5, False) 0\n",
        "put it on the q\n",
        "no change in state (5, False) (5, False)\n"
       ]
      }
     ],
     "prompt_number": 3
    },
    {
     "cell_type": "code",
     "collapsed": false,
     "input": [
      "agent.learner.q"
     ],
     "language": "python",
     "metadata": {},
     "outputs": [
      {
       "metadata": {},
       "output_type": "pyout",
       "prompt_number": 3,
       "text": [
        "{((0, False), 'go_to_sleep'): -10,\n",
        " ((0, False), 'wakeup'): -9.68902408056793,\n",
        " ((0, True), 'go_to_sleep'): 0.7693803507144094,\n",
        " ((1, False), 'go_to_sleep'): 2.7547503673120106,\n",
        " ((1, False), 'wakeup'): -9.938252092910037,\n",
        " ((1, True), 'go_to_sleep'): 2.26926505804937,\n",
        " ((1, True), 'wakeup'): 0.0397319657275938,\n",
        " ((2, False), 'go_to_sleep'): 2.9805596202904554,\n",
        " ((2, False), 'wakeup'): -12.360390668223692,\n",
        " ((2, True), 'go_to_sleep'): 2.403710403766903,\n",
        " ((2, True), 'wakeup'): 1.2829517442732277,\n",
        " ((3, False), 'go_to_sleep'): 1.7243976956351732,\n",
        " ((3, False), 'wakeup'): 3.505835058957417,\n",
        " ((3, True), 'go_to_sleep'): 0.0,\n",
        " ((3, True), 'wakeup'): 2.9952764775634613,\n",
        " ((4, False), 'wakeup'): 4.070598505566764,\n",
        " ((4, True), 'go_to_sleep'): 2.9219004733851985,\n",
        " ((4, True), 'wakeup'): 0,\n",
        " ((5, False), 'go_to_sleep'): 1.393029057730107,\n",
        " ((5, False), 'wakeup'): 4.38480404222528,\n",
        " ((5, True), 'go_to_sleep'): 2.1572802738717933}"
       ]
      }
     ],
     "prompt_number": 3
    },
    {
     "cell_type": "code",
     "collapsed": false,
     "input": [],
     "language": "python",
     "metadata": {},
     "outputs": []
    },
    {
     "cell_type": "code",
     "collapsed": false,
     "input": [],
     "language": "python",
     "metadata": {},
     "outputs": [],
     "prompt_number": 3
    },
    {
     "cell_type": "code",
     "collapsed": false,
     "input": [],
     "language": "python",
     "metadata": {},
     "outputs": [],
     "prompt_number": 3
    },
    {
     "cell_type": "code",
     "collapsed": false,
     "input": [
      "\n"
     ],
     "language": "python",
     "metadata": {},
     "outputs": [],
     "prompt_number": 37
    },
    {
     "cell_type": "code",
     "collapsed": false,
     "input": [],
     "language": "python",
     "metadata": {},
     "outputs": [],
     "prompt_number": 36
    },
    {
     "cell_type": "code",
     "collapsed": false,
     "input": [],
     "language": "python",
     "metadata": {},
     "outputs": [],
     "prompt_number": 36
    },
    {
     "cell_type": "code",
     "collapsed": false,
     "input": [],
     "language": "python",
     "metadata": {},
     "outputs": []
    }
   ],
   "metadata": {}
  }
 ]
}