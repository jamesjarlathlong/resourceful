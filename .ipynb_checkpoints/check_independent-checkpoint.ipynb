{
 "cells": [
  {
   "cell_type": "code",
   "execution_count": 1,
   "metadata": {
    "collapsed": false
   },
   "outputs": [
    {
     "name": "stderr",
     "output_type": "stream",
     "text": [
      "/usr/local/lib/python3.4/dist-packages/matplotlib/backends/backend_gtk3agg.py:18: UserWarning: The Gtk3Agg backend is known to not work on Python 3.x with pycairo. Try installing cairocffi.\n",
      "  \"The Gtk3Agg backend is known to not work on Python 3.x with pycairo. \"\n"
     ]
    }
   ],
   "source": [
    "import sklearn\n",
    "import json\n",
    "import operator\n",
    "import matplotlib.pyplot as plt\n",
    "import prettyplotlib as ppl\n",
    "%matplotlib inline\n",
    "agent1 = [sklearn.externals.joblib.load('agent1_ind')]\n",
    "agent2 = [sklearn.externals.joblib.load('agent2_ind')]\n",
    "hist1 = sklearn.externals.joblib.load('agent1_indhist')\n",
    "hist2 = sklearn.externals.joblib.load('agent2_indhist')"
   ]
  },
  {
   "cell_type": "code",
   "execution_count": 2,
   "metadata": {
    "collapsed": false
   },
   "outputs": [
    {
     "name": "stdout",
     "output_type": "stream",
     "text": [
      "(247, 110, 2847, 0.0867579908675799, 0.03863716192483316)\n",
      "(247, 110, 2847, 0.0867579908675799, 0.03863716192483316)\n"
     ]
    }
   ],
   "source": [
    "def loader(dictionary):\n",
    "    def load_keys(k):\n",
    "        unjsoned = json.loads(k)\n",
    "        loaded = tuple( ((tuple(unjsoned[0])), unjsoned[1] ))\n",
    "        return loaded\n",
    "    return {load_keys(k):v for k,v in dictionary.items()}\n",
    "def get_score(hist):\n",
    "    loaded = {k:len(json.loads(v)) for k,v in loader(hist).items()}\n",
    "    not_running = sum([v for k,v in loaded.items() if k[0][1] == 'sleeping' and k[0][2]=='sleeping'])\n",
    "    zero = sum([v for k,v in loaded.items() if k[0][0] == 0])\n",
    "    total = sum([v for k,v in loaded.items()])\n",
    "    return not_running, zero, total, not_running/total, zero/total\n",
    "def get_winners(dictionary):\n",
    "    states = set([k[0] for k,v in dictionary.items()])\n",
    "    winners = {}\n",
    "    for s in states:\n",
    "        matches = [(v, k[1]) for k,v in dictionary.items() if k[0]==s]\n",
    "        winners[s] = sorted(matches, key=operator.itemgetter(0))[::-1]\n",
    "    return {k: v[0][1] for k,v in winners.items()}\n",
    "print(get_score(hist1))\n",
    "print(get_score(hist2))"
   ]
  },
  {
   "cell_type": "code",
   "execution_count": 3,
   "metadata": {
    "collapsed": false
   },
   "outputs": [
    {
     "data": {
      "text/plain": [
       "[{(0, 'running', 'running'): 'go_to_sleep',\n",
       "  (0, 'running', 'sleeping'): 'go_to_sleep',\n",
       "  (0, 'sleeping', 'running'): 'noop',\n",
       "  (0, 'sleeping', 'sleeping'): 'noop',\n",
       "  (1, 'running', 'running'): 'go_to_sleep',\n",
       "  (1, 'running', 'sleeping'): 'go_to_sleep',\n",
       "  (1, 'sleeping', 'running'): 'noop',\n",
       "  (1, 'sleeping', 'sleeping'): 'noop',\n",
       "  (2, 'running', 'running'): 'go_to_sleep',\n",
       "  (2, 'running', 'sleeping'): 'go_to_sleep',\n",
       "  (2, 'sleeping', 'running'): 'wakeup',\n",
       "  (2, 'sleeping', 'sleeping'): 'wakeup',\n",
       "  (3, 'running', 'running'): 'noop',\n",
       "  (3, 'running', 'sleeping'): 'noop',\n",
       "  (3, 'sleeping', 'running'): 'wakeup',\n",
       "  (3, 'sleeping', 'sleeping'): 'wakeup',\n",
       "  (4, 'running', 'running'): 'noop',\n",
       "  (4, 'running', 'sleeping'): 'noop',\n",
       "  (4, 'sleeping', 'running'): 'wakeup',\n",
       "  (4, 'sleeping', 'sleeping'): 'wakeup',\n",
       "  (5, 'running', 'running'): 'noop',\n",
       "  (5, 'running', 'sleeping'): 'noop',\n",
       "  (5, 'sleeping', 'running'): 'wakeup',\n",
       "  (5, 'sleeping', 'sleeping'): 'wakeup',\n",
       "  (6, 'running', 'running'): 'noop',\n",
       "  (6, 'running', 'sleeping'): 'noop',\n",
       "  (6, 'sleeping', 'running'): 'wakeup',\n",
       "  (6, 'sleeping', 'sleeping'): 'wakeup',\n",
       "  (7, 'running', 'running'): 'noop',\n",
       "  (8, 'running', 'running'): 'noop',\n",
       "  (8, 'sleeping', 'sleeping'): 'wakeup',\n",
       "  (9, 'running', 'running'): 'go_to_sleep',\n",
       "  (10, 'running', 'running'): 'noop',\n",
       "  (10, 'running', 'sleeping'): 'go_to_sleep',\n",
       "  (10, 'sleeping', 'running'): 'wakeup',\n",
       "  (11, 'running', 'running'): 'noop',\n",
       "  (11, 'sleeping', 'running'): 'wakeup',\n",
       "  (12, 'running', 'running'): 'noop',\n",
       "  (12, 'running', 'sleeping'): 'noop',\n",
       "  (12, 'sleeping', 'running'): 'wakeup',\n",
       "  (12, 'sleeping', 'sleeping'): 'wakeup',\n",
       "  (13, 'running', 'running'): 'noop',\n",
       "  (13, 'running', 'sleeping'): 'noop',\n",
       "  (14, 'running', 'running'): 'noop'}]"
      ]
     },
     "execution_count": 3,
     "metadata": {},
     "output_type": "execute_result"
    }
   ],
   "source": [
    "loaded1 = [loader(i) for i in agent1]\n",
    "[get_winners(j) for j in loaded1]"
   ]
  },
  {
   "cell_type": "code",
   "execution_count": 4,
   "metadata": {
    "collapsed": false
   },
   "outputs": [
    {
     "data": {
      "text/plain": [
       "{((0, 'running', 'running'), 'go_to_sleep'): 13,\n",
       " ((0, 'running', 'running'), 'noop'): 5,\n",
       " ((0, 'running', 'sleeping'), 'go_to_sleep'): 4,\n",
       " ((0, 'running', 'sleeping'), 'noop'): 2,\n",
       " ((0, 'sleeping', 'running'), 'noop'): 35,\n",
       " ((0, 'sleeping', 'running'), 'wakeup'): 10,\n",
       " ((0, 'sleeping', 'sleeping'), 'noop'): 11,\n",
       " ((0, 'sleeping', 'sleeping'), 'wakeup'): 1,\n",
       " ((1, 'running', 'running'), 'go_to_sleep'): 32,\n",
       " ((1, 'running', 'running'), 'noop'): 14,\n",
       " ((1, 'running', 'sleeping'), 'go_to_sleep'): 5,\n",
       " ((1, 'running', 'sleeping'), 'noop'): 12,\n",
       " ((1, 'sleeping', 'running'), 'noop'): 178,\n",
       " ((1, 'sleeping', 'running'), 'wakeup'): 18,\n",
       " ((1, 'sleeping', 'sleeping'), 'noop'): 83,\n",
       " ((1, 'sleeping', 'sleeping'), 'wakeup'): 10,\n",
       " ((2, 'running', 'running'), 'go_to_sleep'): 300,\n",
       " ((2, 'running', 'running'), 'noop'): 44,\n",
       " ((2, 'running', 'sleeping'), 'go_to_sleep'): 137,\n",
       " ((2, 'running', 'sleeping'), 'noop'): 25,\n",
       " ((2, 'sleeping', 'running'), 'noop'): 12,\n",
       " ((2, 'sleeping', 'running'), 'wakeup'): 232,\n",
       " ((2, 'sleeping', 'sleeping'), 'noop'): 1,\n",
       " ((2, 'sleeping', 'sleeping'), 'wakeup'): 97,\n",
       " ((3, 'running', 'running'), 'go_to_sleep'): 21,\n",
       " ((3, 'running', 'running'), 'noop'): 506,\n",
       " ((3, 'running', 'sleeping'), 'go_to_sleep'): 7,\n",
       " ((3, 'running', 'sleeping'), 'noop'): 187,\n",
       " ((3, 'sleeping', 'running'), 'noop'): 6,\n",
       " ((3, 'sleeping', 'running'), 'wakeup'): 101,\n",
       " ((3, 'sleeping', 'sleeping'), 'wakeup'): 49,\n",
       " ((4, 'running', 'running'), 'go_to_sleep'): 14,\n",
       " ((4, 'running', 'running'), 'noop'): 389,\n",
       " ((4, 'running', 'sleeping'), 'go_to_sleep'): 8,\n",
       " ((4, 'running', 'sleeping'), 'noop'): 173,\n",
       " ((4, 'sleeping', 'running'), 'noop'): 1,\n",
       " ((4, 'sleeping', 'running'), 'wakeup'): 15,\n",
       " ((4, 'sleeping', 'sleeping'), 'wakeup'): 4,\n",
       " ((5, 'running', 'running'), 'go_to_sleep'): 2,\n",
       " ((5, 'running', 'running'), 'noop'): 68,\n",
       " ((5, 'running', 'sleeping'), 'noop'): 34,\n",
       " ((5, 'sleeping', 'running'), 'wakeup'): 2,\n",
       " ((5, 'sleeping', 'sleeping'), 'wakeup'): 1,\n",
       " ((6, 'running', 'running'), 'go_to_sleep'): 1,\n",
       " ((6, 'running', 'running'), 'noop'): 14,\n",
       " ((6, 'running', 'sleeping'), 'noop'): 5,\n",
       " ((6, 'sleeping', 'running'), 'wakeup'): 2,\n",
       " ((7, 'running', 'running'), 'noop'): 2,\n",
       " ((8, 'running', 'running'), 'noop'): 3,\n",
       " ((8, 'sleeping', 'sleeping'), 'wakeup'): 1,\n",
       " ((12, 'running', 'running'), 'noop'): 1,\n",
       " ((12, 'running', 'sleeping'), 'noop'): 1,\n",
       " ((12, 'sleeping', 'sleeping'), 'wakeup'): 1,\n",
       " ((13, 'running', 'running'), 'noop'): 3,\n",
       " ((14, 'running', 'running'), 'noop'): 3}"
      ]
     },
     "execution_count": 4,
     "metadata": {},
     "output_type": "execute_result"
    }
   ],
   "source": [
    "{k:len(json.loads(v)) for k,v in loader(hist1).items()}"
   ]
  },
  {
   "cell_type": "code",
   "execution_count": null,
   "metadata": {
    "collapsed": true
   },
   "outputs": [],
   "source": []
  }
 ],
 "metadata": {
  "kernelspec": {
   "display_name": "Python 3",
   "language": "python",
   "name": "python3"
  },
  "language_info": {
   "codemirror_mode": {
    "name": "ipython",
    "version": 3
   },
   "file_extension": ".py",
   "mimetype": "text/x-python",
   "name": "python",
   "nbconvert_exporter": "python",
   "pygments_lexer": "ipython3",
   "version": "3.4.3"
  }
 },
 "nbformat": 4,
 "nbformat_minor": 0
}
