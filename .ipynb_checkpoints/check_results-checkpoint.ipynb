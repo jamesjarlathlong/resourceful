{
 "cells": [
  {
   "cell_type": "code",
   "execution_count": 33,
   "metadata": {
    "collapsed": true
   },
   "outputs": [],
   "source": [
    "import sklearn\n",
    "import json\n",
    "import operator"
   ]
  },
  {
   "cell_type": "code",
   "execution_count": 46,
   "metadata": {
    "collapsed": false
   },
   "outputs": [],
   "source": [
    "agent11 = sklearn.externals.joblib.load('agent1_independent_more')\n",
    "agent12 = sklearn.externals.joblib.load('agent1_independent_two')\n",
    "agent13 = sklearn.externals.joblib.load('agent1_independent_three')\n",
    "one = [agent11, agent12, agent13]\n",
    "agent21 = sklearn.externals.joblib.load('agent2_independent_more')\n",
    "agent22 = sklearn.externals.joblib.load('agent2_independent_two')\n",
    "agent23 = sklearn.externals.joblib.load('agent2_independent_three')\n",
    "two = [agent21, agent22, agent23]"
   ]
  },
  {
   "cell_type": "code",
   "execution_count": 48,
   "metadata": {
    "collapsed": false
   },
   "outputs": [],
   "source": [
    "def loader(dictionary):\n",
    "    def load_keys(k):\n",
    "        unjsoned = json.loads(k)\n",
    "        loaded = tuple( ((tuple(unjsoned[0])), unjsoned[1] ))\n",
    "        return loaded\n",
    "    return {load_keys(k):v for k,v in dictionary.items()}\n",
    "loaded1 = [loader(i) for i in one]\n",
    "loaded2 = [loader(i) for i in two]\n",
    "def get_winners(dictionary):\n",
    "    states = set([k[0] for k,v in dictionary.items()])\n",
    "    winners = {}\n",
    "    for s in states:\n",
    "        matches = [(v, k[1]) for k,v in dictionary.items() if k[0]==s]\n",
    "        winners[s] = sorted(matches, key=operator.itemgetter(0))[::-1]\n",
    "    return {k: v[0][1] for k,v in winners.items()}"
   ]
  },
  {
   "cell_type": "code",
   "execution_count": 49,
   "metadata": {
    "collapsed": false,
    "scrolled": true
   },
   "outputs": [
    {
     "data": {
      "text/plain": [
       "[{(0, 'running', 'sleeping'): 'noop',\n",
       "  (0, 'sleeping', 'sleeping'): 'noop',\n",
       "  (1, 'running', 'sleeping'): 'go_to_sleep',\n",
       "  (1, 'sleeping', 'sleeping'): 'noop',\n",
       "  (2, 'running', 'sleeping'): 'noop',\n",
       "  (2, 'sleeping', 'sleeping'): 'wakeup',\n",
       "  (3, 'running', 'sleeping'): 'noop',\n",
       "  (3, 'sleeping', 'sleeping'): 'wakeup',\n",
       "  (4, 'running', 'sleeping'): 'noop',\n",
       "  (4, 'sleeping', 'sleeping'): 'wakeup',\n",
       "  (5, 'running', 'sleeping'): 'noop',\n",
       "  (5, 'sleeping', 'sleeping'): 'wakeup',\n",
       "  (6, 'running', 'sleeping'): 'noop',\n",
       "  (6, 'sleeping', 'sleeping'): 'wakeup',\n",
       "  (7, 'running', 'sleeping'): 'noop',\n",
       "  (7, 'sleeping', 'sleeping'): 'wakeup',\n",
       "  (8, 'running', 'sleeping'): 'noop',\n",
       "  (8, 'sleeping', 'sleeping'): 'wakeup',\n",
       "  (9, 'running', 'sleeping'): 'noop',\n",
       "  (9, 'sleeping', 'sleeping'): 'wakeup'},\n",
       " {(0, 'running', 'sleeping'): 'noop',\n",
       "  (0, 'sleeping', 'sleeping'): 'noop',\n",
       "  (1, 'running', 'sleeping'): 'go_to_sleep',\n",
       "  (1, 'sleeping', 'sleeping'): 'noop',\n",
       "  (2, 'running', 'sleeping'): 'noop',\n",
       "  (2, 'sleeping', 'sleeping'): 'wakeup',\n",
       "  (3, 'running', 'sleeping'): 'noop',\n",
       "  (3, 'sleeping', 'sleeping'): 'wakeup',\n",
       "  (4, 'running', 'sleeping'): 'noop',\n",
       "  (4, 'sleeping', 'sleeping'): 'wakeup',\n",
       "  (5, 'running', 'sleeping'): 'noop',\n",
       "  (5, 'sleeping', 'sleeping'): 'wakeup',\n",
       "  (6, 'running', 'sleeping'): 'noop',\n",
       "  (6, 'sleeping', 'sleeping'): 'wakeup',\n",
       "  (7, 'running', 'sleeping'): 'noop',\n",
       "  (7, 'sleeping', 'sleeping'): 'wakeup',\n",
       "  (8, 'running', 'sleeping'): 'noop',\n",
       "  (8, 'sleeping', 'sleeping'): 'wakeup',\n",
       "  (9, 'running', 'sleeping'): 'noop',\n",
       "  (9, 'sleeping', 'sleeping'): 'noop',\n",
       "  (10, 'running', 'sleeping'): 'noop',\n",
       "  (10, 'sleeping', 'sleeping'): 'wakeup'},\n",
       " {(0, 'running', 'sleeping'): 'noop',\n",
       "  (0, 'sleeping', 'sleeping'): 'noop',\n",
       "  (1, 'running', 'sleeping'): 'go_to_sleep',\n",
       "  (1, 'sleeping', 'sleeping'): 'noop',\n",
       "  (2, 'running', 'sleeping'): 'noop',\n",
       "  (2, 'sleeping', 'sleeping'): 'wakeup',\n",
       "  (3, 'running', 'sleeping'): 'noop',\n",
       "  (3, 'sleeping', 'sleeping'): 'wakeup',\n",
       "  (4, 'running', 'sleeping'): 'noop',\n",
       "  (4, 'sleeping', 'sleeping'): 'wakeup',\n",
       "  (5, 'running', 'sleeping'): 'noop',\n",
       "  (5, 'sleeping', 'sleeping'): 'wakeup',\n",
       "  (6, 'running', 'sleeping'): 'noop',\n",
       "  (6, 'sleeping', 'sleeping'): 'wakeup',\n",
       "  (7, 'running', 'sleeping'): 'noop',\n",
       "  (7, 'sleeping', 'sleeping'): 'wakeup',\n",
       "  (8, 'running', 'sleeping'): 'noop',\n",
       "  (8, 'sleeping', 'sleeping'): 'noop',\n",
       "  (9, 'running', 'sleeping'): 'noop',\n",
       "  (9, 'sleeping', 'sleeping'): 'noop',\n",
       "  (10, 'running', 'sleeping'): 'noop',\n",
       "  (10, 'sleeping', 'sleeping'): 'noop'}]"
      ]
     },
     "execution_count": 49,
     "metadata": {},
     "output_type": "execute_result"
    }
   ],
   "source": [
    "[get_winners(j) for j in loaded1]"
   ]
  },
  {
   "cell_type": "code",
   "execution_count": 50,
   "metadata": {
    "collapsed": false
   },
   "outputs": [
    {
     "data": {
      "text/plain": [
       "[{(0, 'running', 'sleeping'): 'noop',\n",
       "  (0, 'sleeping', 'sleeping'): 'noop',\n",
       "  (1, 'running', 'sleeping'): 'go_to_sleep',\n",
       "  (1, 'sleeping', 'sleeping'): 'noop',\n",
       "  (2, 'running', 'sleeping'): 'noop',\n",
       "  (2, 'sleeping', 'sleeping'): 'wakeup',\n",
       "  (3, 'running', 'sleeping'): 'noop',\n",
       "  (3, 'sleeping', 'sleeping'): 'wakeup',\n",
       "  (4, 'running', 'sleeping'): 'noop',\n",
       "  (4, 'sleeping', 'sleeping'): 'wakeup',\n",
       "  (5, 'running', 'sleeping'): 'noop',\n",
       "  (5, 'sleeping', 'sleeping'): 'wakeup',\n",
       "  (6, 'running', 'sleeping'): 'noop',\n",
       "  (6, 'sleeping', 'sleeping'): 'noop',\n",
       "  (7, 'running', 'sleeping'): 'noop',\n",
       "  (7, 'sleeping', 'sleeping'): 'noop',\n",
       "  (8, 'running', 'sleeping'): 'noop',\n",
       "  (8, 'sleeping', 'sleeping'): 'noop',\n",
       "  (9, 'running', 'sleeping'): 'noop',\n",
       "  (9, 'sleeping', 'sleeping'): 'wakeup',\n",
       "  (10, 'running', 'sleeping'): 'noop',\n",
       "  (10, 'sleeping', 'sleeping'): 'wakeup'},\n",
       " {(0, 'running', 'sleeping'): 'noop',\n",
       "  (0, 'sleeping', 'sleeping'): 'noop',\n",
       "  (1, 'running', 'sleeping'): 'go_to_sleep',\n",
       "  (1, 'sleeping', 'sleeping'): 'noop',\n",
       "  (2, 'running', 'sleeping'): 'noop',\n",
       "  (2, 'sleeping', 'sleeping'): 'wakeup',\n",
       "  (3, 'running', 'sleeping'): 'noop',\n",
       "  (3, 'sleeping', 'sleeping'): 'wakeup',\n",
       "  (4, 'running', 'sleeping'): 'noop',\n",
       "  (4, 'sleeping', 'sleeping'): 'wakeup',\n",
       "  (5, 'running', 'sleeping'): 'noop',\n",
       "  (5, 'sleeping', 'sleeping'): 'wakeup',\n",
       "  (6, 'running', 'sleeping'): 'noop',\n",
       "  (6, 'sleeping', 'sleeping'): 'wakeup',\n",
       "  (7, 'running', 'sleeping'): 'noop',\n",
       "  (7, 'sleeping', 'sleeping'): 'wakeup',\n",
       "  (8, 'running', 'sleeping'): 'noop',\n",
       "  (8, 'sleeping', 'sleeping'): 'noop',\n",
       "  (9, 'running', 'sleeping'): 'noop',\n",
       "  (9, 'sleeping', 'sleeping'): 'wakeup',\n",
       "  (10, 'running', 'sleeping'): 'noop'},\n",
       " {(0, 'running', 'sleeping'): 'go_to_sleep',\n",
       "  (0, 'sleeping', 'sleeping'): 'noop',\n",
       "  (1, 'running', 'sleeping'): 'go_to_sleep',\n",
       "  (1, 'sleeping', 'sleeping'): 'noop',\n",
       "  (2, 'running', 'sleeping'): 'noop',\n",
       "  (2, 'sleeping', 'sleeping'): 'wakeup',\n",
       "  (3, 'running', 'sleeping'): 'noop',\n",
       "  (3, 'sleeping', 'sleeping'): 'wakeup',\n",
       "  (4, 'running', 'sleeping'): 'noop',\n",
       "  (4, 'sleeping', 'sleeping'): 'wakeup',\n",
       "  (5, 'running', 'sleeping'): 'noop',\n",
       "  (5, 'sleeping', 'sleeping'): 'wakeup',\n",
       "  (6, 'running', 'sleeping'): 'noop',\n",
       "  (6, 'sleeping', 'sleeping'): 'wakeup',\n",
       "  (7, 'running', 'sleeping'): 'noop',\n",
       "  (7, 'sleeping', 'sleeping'): 'noop',\n",
       "  (8, 'running', 'sleeping'): 'noop',\n",
       "  (8, 'sleeping', 'sleeping'): 'noop',\n",
       "  (9, 'running', 'sleeping'): 'noop',\n",
       "  (9, 'sleeping', 'sleeping'): 'noop',\n",
       "  (10, 'running', 'sleeping'): 'noop',\n",
       "  (10, 'sleeping', 'sleeping'): 'wakeup'}]"
      ]
     },
     "execution_count": 50,
     "metadata": {},
     "output_type": "execute_result"
    }
   ],
   "source": [
    "[get_winners(j) for j in loaded2]"
   ]
  },
  {
   "cell_type": "code",
   "execution_count": 66,
   "metadata": {
    "collapsed": false
   },
   "outputs": [],
   "source": [
    "import asyncio\n",
    "q = asyncio.Queue()\n",
    "#q.put_nowait(2)\n",
    "#q.put_nowait(3)"
   ]
  },
  {
   "cell_type": "code",
   "execution_count": 80,
   "metadata": {
    "collapsed": false
   },
   "outputs": [],
   "source": [
    "import functools\n",
    "def compose(functions):\n",
    "    \"\"\"composes a list of functions from right to left\"\"\"\n",
    "    return functools.reduce(lambda f, g: lambda x: f(g(x)), functions, lambda x: x)\n",
    "def a(add, state):\n",
    "    print(add)\n",
    "    new= state+add\n",
    "    return new\n",
    "modifiers = [functools.partial(a,1), functools.partial(a,3)]\n",
    "composition = compose(modifiers)"
   ]
  },
  {
   "cell_type": "code",
   "execution_count": 81,
   "metadata": {
    "collapsed": false
   },
   "outputs": [
    {
     "name": "stdout",
     "output_type": "stream",
     "text": [
      "3\n",
      "1\n"
     ]
    },
    {
     "data": {
      "text/plain": [
       "8"
      ]
     },
     "execution_count": 81,
     "metadata": {},
     "output_type": "execute_result"
    }
   ],
   "source": [
    "composition(4)"
   ]
  },
  {
   "cell_type": "code",
   "execution_count": null,
   "metadata": {
    "collapsed": true
   },
   "outputs": [],
   "source": []
  }
 ],
 "metadata": {
  "kernelspec": {
   "display_name": "Python 3",
   "language": "python",
   "name": "python3"
  },
  "language_info": {
   "codemirror_mode": {
    "name": "ipython",
    "version": 3
   },
   "file_extension": ".py",
   "mimetype": "text/x-python",
   "name": "python",
   "nbconvert_exporter": "python",
   "pygments_lexer": "ipython3",
   "version": "3.4.3"
  }
 },
 "nbformat": 4,
 "nbformat_minor": 0
}
