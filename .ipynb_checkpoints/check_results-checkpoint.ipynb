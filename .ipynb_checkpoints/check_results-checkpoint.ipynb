{
 "cells": [
  {
   "cell_type": "code",
   "execution_count": 6,
   "metadata": {
    "collapsed": true
   },
   "outputs": [],
   "source": [
    "import sklearn\n",
    "import json"
   ]
  },
  {
   "cell_type": "code",
   "execution_count": 3,
   "metadata": {
    "collapsed": false
   },
   "outputs": [],
   "source": [
    "agent1 = sklearn.externals.joblib.load('agent1')\n",
    "agent2 = sklearn.externals.joblib.load('agent2')"
   ]
  },
  {
   "cell_type": "code",
   "execution_count": 15,
   "metadata": {
    "collapsed": false
   },
   "outputs": [
    {
     "name": "stdout",
     "output_type": "stream",
     "text": [
      "([4, 'sleeping', 'running'], 'noop')\n"
     ]
    },
    {
     "ename": "TypeError",
     "evalue": "unhashable type: 'list'",
     "output_type": "error",
     "traceback": [
      "\u001b[1;31m---------------------------------------------------------------------------\u001b[0m",
      "\u001b[1;31mTypeError\u001b[0m                                 Traceback (most recent call last)",
      "\u001b[1;32m<ipython-input-15-6cfdd23a91c9>\u001b[0m in \u001b[0;36m<module>\u001b[1;34m()\u001b[0m\n\u001b[0;32m      3\u001b[0m     \u001b[0mprint\u001b[0m\u001b[1;33m(\u001b[0m\u001b[0mloaded\u001b[0m\u001b[1;33m)\u001b[0m\u001b[1;33m\u001b[0m\u001b[0m\n\u001b[0;32m      4\u001b[0m     \u001b[1;32mreturn\u001b[0m \u001b[0mloaded\u001b[0m\u001b[1;33m\u001b[0m\u001b[0m\n\u001b[1;32m----> 5\u001b[1;33m \u001b[0mloaded1\u001b[0m \u001b[1;33m=\u001b[0m \u001b[1;33m{\u001b[0m\u001b[0mload_keys\u001b[0m\u001b[1;33m(\u001b[0m\u001b[0mk\u001b[0m\u001b[1;33m)\u001b[0m\u001b[1;33m:\u001b[0m\u001b[0mv\u001b[0m \u001b[1;32mfor\u001b[0m \u001b[0mk\u001b[0m\u001b[1;33m,\u001b[0m\u001b[0mv\u001b[0m \u001b[1;32min\u001b[0m \u001b[0magent1\u001b[0m\u001b[1;33m.\u001b[0m\u001b[0mitems\u001b[0m\u001b[1;33m(\u001b[0m\u001b[1;33m)\u001b[0m\u001b[1;33m}\u001b[0m\u001b[1;33m\u001b[0m\u001b[0m\n\u001b[0m\u001b[0;32m      6\u001b[0m \u001b[0mloaded2\u001b[0m \u001b[1;33m=\u001b[0m \u001b[1;33m{\u001b[0m\u001b[0mload_keys\u001b[0m\u001b[1;33m(\u001b[0m\u001b[0mk\u001b[0m\u001b[1;33m)\u001b[0m\u001b[1;33m:\u001b[0m\u001b[0mv\u001b[0m \u001b[1;32mfor\u001b[0m \u001b[0mk\u001b[0m\u001b[1;33m,\u001b[0m\u001b[0mv\u001b[0m \u001b[1;32min\u001b[0m \u001b[0magent2\u001b[0m\u001b[1;33m.\u001b[0m\u001b[0mitems\u001b[0m\u001b[1;33m(\u001b[0m\u001b[1;33m)\u001b[0m\u001b[1;33m}\u001b[0m\u001b[1;33m\u001b[0m\u001b[0m\n\u001b[0;32m      7\u001b[0m \u001b[0mstates\u001b[0m \u001b[1;33m=\u001b[0m \u001b[0mset\u001b[0m\u001b[1;33m(\u001b[0m\u001b[1;33m[\u001b[0m\u001b[0mtuple\u001b[0m\u001b[1;33m(\u001b[0m\u001b[0mjson\u001b[0m\u001b[1;33m.\u001b[0m\u001b[0mloads\u001b[0m\u001b[1;33m(\u001b[0m\u001b[0mk\u001b[0m\u001b[1;33m)\u001b[0m\u001b[1;33m[\u001b[0m\u001b[1;36m0\u001b[0m\u001b[1;33m]\u001b[0m\u001b[1;33m)\u001b[0m \u001b[1;32mfor\u001b[0m \u001b[0mk\u001b[0m\u001b[1;33m,\u001b[0m\u001b[0mv\u001b[0m \u001b[1;32min\u001b[0m \u001b[0magent1\u001b[0m\u001b[1;33m.\u001b[0m\u001b[0mitems\u001b[0m\u001b[1;33m(\u001b[0m\u001b[1;33m)\u001b[0m\u001b[1;33m]\u001b[0m\u001b[1;33m)\u001b[0m\u001b[1;33m\u001b[0m\u001b[0m\n",
      "\u001b[1;32m<ipython-input-15-6cfdd23a91c9>\u001b[0m in \u001b[0;36m<dictcomp>\u001b[1;34m(.0)\u001b[0m\n\u001b[0;32m      3\u001b[0m     \u001b[0mprint\u001b[0m\u001b[1;33m(\u001b[0m\u001b[0mloaded\u001b[0m\u001b[1;33m)\u001b[0m\u001b[1;33m\u001b[0m\u001b[0m\n\u001b[0;32m      4\u001b[0m     \u001b[1;32mreturn\u001b[0m \u001b[0mloaded\u001b[0m\u001b[1;33m\u001b[0m\u001b[0m\n\u001b[1;32m----> 5\u001b[1;33m \u001b[0mloaded1\u001b[0m \u001b[1;33m=\u001b[0m \u001b[1;33m{\u001b[0m\u001b[0mload_keys\u001b[0m\u001b[1;33m(\u001b[0m\u001b[0mk\u001b[0m\u001b[1;33m)\u001b[0m\u001b[1;33m:\u001b[0m\u001b[0mv\u001b[0m \u001b[1;32mfor\u001b[0m \u001b[0mk\u001b[0m\u001b[1;33m,\u001b[0m\u001b[0mv\u001b[0m \u001b[1;32min\u001b[0m \u001b[0magent1\u001b[0m\u001b[1;33m.\u001b[0m\u001b[0mitems\u001b[0m\u001b[1;33m(\u001b[0m\u001b[1;33m)\u001b[0m\u001b[1;33m}\u001b[0m\u001b[1;33m\u001b[0m\u001b[0m\n\u001b[0m\u001b[0;32m      6\u001b[0m \u001b[0mloaded2\u001b[0m \u001b[1;33m=\u001b[0m \u001b[1;33m{\u001b[0m\u001b[0mload_keys\u001b[0m\u001b[1;33m(\u001b[0m\u001b[0mk\u001b[0m\u001b[1;33m)\u001b[0m\u001b[1;33m:\u001b[0m\u001b[0mv\u001b[0m \u001b[1;32mfor\u001b[0m \u001b[0mk\u001b[0m\u001b[1;33m,\u001b[0m\u001b[0mv\u001b[0m \u001b[1;32min\u001b[0m \u001b[0magent2\u001b[0m\u001b[1;33m.\u001b[0m\u001b[0mitems\u001b[0m\u001b[1;33m(\u001b[0m\u001b[1;33m)\u001b[0m\u001b[1;33m}\u001b[0m\u001b[1;33m\u001b[0m\u001b[0m\n\u001b[0;32m      7\u001b[0m \u001b[0mstates\u001b[0m \u001b[1;33m=\u001b[0m \u001b[0mset\u001b[0m\u001b[1;33m(\u001b[0m\u001b[1;33m[\u001b[0m\u001b[0mtuple\u001b[0m\u001b[1;33m(\u001b[0m\u001b[0mjson\u001b[0m\u001b[1;33m.\u001b[0m\u001b[0mloads\u001b[0m\u001b[1;33m(\u001b[0m\u001b[0mk\u001b[0m\u001b[1;33m)\u001b[0m\u001b[1;33m[\u001b[0m\u001b[1;36m0\u001b[0m\u001b[1;33m]\u001b[0m\u001b[1;33m)\u001b[0m \u001b[1;32mfor\u001b[0m \u001b[0mk\u001b[0m\u001b[1;33m,\u001b[0m\u001b[0mv\u001b[0m \u001b[1;32min\u001b[0m \u001b[0magent1\u001b[0m\u001b[1;33m.\u001b[0m\u001b[0mitems\u001b[0m\u001b[1;33m(\u001b[0m\u001b[1;33m)\u001b[0m\u001b[1;33m]\u001b[0m\u001b[1;33m)\u001b[0m\u001b[1;33m\u001b[0m\u001b[0m\n",
      "\u001b[1;31mTypeError\u001b[0m: unhashable type: 'list'"
     ]
    }
   ],
   "source": [
    "def load_keys(k):\n",
    "    unjsoned = json.loads(k)\n",
    "    loaded = tuple((tuple(unjsoned[0]), unjsoned[1])\n",
    "    print(loaded)\n",
    "    return loaded\n",
    "loaded1 = {load_keys(k):v for k,v in agent1.items()}\n",
    "loaded2 = {load_keys(k):v for k,v in agent2.items()}\n",
    "states = set([tuple(json.loads(k)[0]) for k,v in agent1.items()])\n"
   ]
  },
  {
   "cell_type": "code",
   "execution_count": 5,
   "metadata": {
    "collapsed": false
   },
   "outputs": [
    {
     "data": {
      "text/plain": [
       "{'[[0, \"sleeping\", \"running\"], \"noop\"]': 0.014796266003447526,\n",
       " '[[0, \"sleeping\", \"running\"], \"wakeup\"]': 2.600710695936001e-06,\n",
       " '[[1, \"running\", \"running\"], \"go_to_sleep\"]': -9.998560926307976,\n",
       " '[[1, \"running\", \"running\"], \"noop\"]': -10.0,\n",
       " '[[1, \"running\", \"running\"], \"recruit\"]': -10,\n",
       " '[[1, \"sleeping\", \"running\"], \"noop\"]': 0.0,\n",
       " '[[1, \"sleeping\", \"running\"], \"wakeup\"]': 0.0011545477408453023,\n",
       " '[[2, \"running\", \"running\"], \"go_to_sleep\"]': -10,\n",
       " '[[2, \"running\", \"running\"], \"noop\"]': -3.6974346401179696,\n",
       " '[[2, \"running\", \"running\"], \"recruit\"]': -10,\n",
       " '[[2, \"sleeping\", \"running\"], \"noop\"]': 0.0102123318269433,\n",
       " '[[2, \"sleeping\", \"running\"], \"wakeup\"]': 0.10936079085482353,\n",
       " '[[3, \"running\", \"running\"], \"go_to_sleep\"]': -1.08,\n",
       " '[[3, \"running\", \"running\"], \"noop\"]': -0.6481600000000001,\n",
       " '[[3, \"running\", \"running\"], \"recruit\"]': -1.4519573059453958,\n",
       " '[[3, \"running\", \"sleeping\"], \"noop\"]': -5,\n",
       " '[[3, \"running\", \"sleeping\"], \"wakeup\"]': 0,\n",
       " '[[3, \"sleeping\", \"running\"], \"noop\"]': 0.0,\n",
       " '[[3, \"sleeping\", \"running\"], \"wakeup\"]': 0.08888268333874447,\n",
       " '[[3, \"sleeping\", \"sleeping\"], \"noop\"]': 0,\n",
       " '[[4, \"running\", \"running\"], \"go_to_sleep\"]': 2.2016576,\n",
       " '[[4, \"sleeping\", \"running\"], \"noop\"]': 0.0,\n",
       " '[[4, \"sleeping\", \"running\"], \"wakeup\"]': 0.3194920240603387,\n",
       " '[[5, \"running\", \"running\"], \"go_to_sleep\"]': 3.107376751609393,\n",
       " '[[5, \"sleeping\", \"running\"], \"noop\"]': 0.0,\n",
       " '[[5, \"sleeping\", \"running\"], \"wakeup\"]': 0.3182864597815396,\n",
       " '[[6, \"running\", \"running\"], \"go_to_sleep\"]': 3.6259651433201134,\n",
       " '[[6, \"running\", \"running\"], \"noop\"]': 2,\n",
       " '[[6, \"sleeping\", \"running\"], \"noop\"]': 0.0,\n",
       " '[[6, \"sleeping\", \"running\"], \"wakeup\"]': 1.3416111901805325,\n",
       " '[[7, \"running\", \"running\"], \"noop\"]': 4.354421402316801,\n",
       " '[[7, \"sleeping\", \"running\"], \"noop\"]': 0,\n",
       " '[[7, \"sleeping\", \"running\"], \"wakeup\"]': 1.0743874338816002,\n",
       " '[[8, \"running\", \"running\"], \"noop\"]': 3.9628766443520003,\n",
       " '[[8, \"sleeping\", \"running\"], \"wakeup\"]': 2.7095815035048965,\n",
       " '[[9, \"running\", \"running\"], \"go_to_sleep\"]': 2.69869311488,\n",
       " '[[9, \"running\", \"running\"], \"noop\"]': 2,\n",
       " '[[9, \"running\", \"running\"], \"recruit\"]': 4.514348721152}"
      ]
     },
     "execution_count": 5,
     "metadata": {},
     "output_type": "execute_result"
    }
   ],
   "source": [
    "agent2"
   ]
  },
  {
   "cell_type": "code",
   "execution_count": null,
   "metadata": {
    "collapsed": true
   },
   "outputs": [],
   "source": []
  }
 ],
 "metadata": {
  "kernelspec": {
   "display_name": "Python 3",
   "language": "python",
   "name": "python3"
  },
  "language_info": {
   "codemirror_mode": {
    "name": "ipython",
    "version": 3
   },
   "file_extension": ".py",
   "mimetype": "text/x-python",
   "name": "python",
   "nbconvert_exporter": "python",
   "pygments_lexer": "ipython3",
   "version": "3.4.3"
  }
 },
 "nbformat": 4,
 "nbformat_minor": 0
}
