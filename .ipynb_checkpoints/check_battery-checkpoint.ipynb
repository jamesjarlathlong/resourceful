{
 "cells": [
  {
   "cell_type": "code",
   "execution_count": 1,
   "metadata": {
    "collapsed": false
   },
   "outputs": [
    {
     "name": "stderr",
     "output_type": "stream",
     "text": [
      "/usr/local/lib/python3.4/dist-packages/matplotlib/backends/backend_gtk3agg.py:18: UserWarning: The Gtk3Agg backend is known to not work on Python 3.x with pycairo. Try installing cairocffi.\n",
      "  \"The Gtk3Agg backend is known to not work on Python 3.x with pycairo. \"\n"
     ]
    }
   ],
   "source": [
    "import sklearn\n",
    "import json\n",
    "import operator\n",
    "import matplotlib.pyplot as plt\n",
    "import prettyplotlib as ppl\n",
    "%matplotlib inline\n",
    "hist1 = sklearn.externals.joblib.load('agent1_batthistexploit')\n",
    "hist2 = sklearn.externals.joblib.load('agent2_batthistexploit')"
   ]
  },
  {
   "cell_type": "code",
   "execution_count": 2,
   "metadata": {
    "collapsed": false
   },
   "outputs": [
    {
     "name": "stdout",
     "output_type": "stream",
     "text": [
      "(104, 49, 1283, 0.08106001558846454, 0.03819173811379579)\n",
      "(111, 32, 1283, 0.08651597817614964, 0.02494154325798909)\n"
     ]
    }
   ],
   "source": [
    "def loader(dictionary):\n",
    "    def load_keys(k):\n",
    "        unjsoned = json.loads(k)\n",
    "        loaded = tuple( ((tuple(unjsoned[0])), unjsoned[1] ))\n",
    "        return loaded\n",
    "    return {load_keys(k):v for k,v in dictionary.items()}\n",
    "def get_score(hist):\n",
    "    loaded = {k:len(json.loads(v)) for k,v in loader(hist).items()}\n",
    "    not_running = sum([v for k,v in loaded.items() if k[0][1] == 'sleeping' and k[0][3]=='sleeping'])\n",
    "    zero = sum([v for k,v in loaded.items() if k[0][0] == 0])\n",
    "    total = sum([v for k,v in loaded.items()])\n",
    "    return not_running, zero, total, not_running/total, zero/total\n",
    "print(get_score(hist1))\n",
    "print(get_score(hist2))"
   ]
  },
  {
   "cell_type": "code",
   "execution_count": 3,
   "metadata": {
    "collapsed": true
   },
   "outputs": [],
   "source": [
    "record = sklearn.externals.joblib.load('batt_writerexploit')\n",
    "one = [(i[0], i[1]['battery']) for i in record if i[1]['_id']==0]\n",
    "two = [(i[0], i[1]['battery']) for i in record if i[1]['_id']==1]"
   ]
  },
  {
   "cell_type": "code",
   "execution_count": 30,
   "metadata": {
    "collapsed": false
   },
   "outputs": [
    {
     "name": "stderr",
     "output_type": "stream",
     "text": [
      "/usr/local/lib/python3.4/dist-packages/matplotlib/__init__.py:872: UserWarning: axes.color_cycle is deprecated and replaced with axes.prop_cycle; please use the latter.\n",
      "  warnings.warn(self.msg_depr % (key, alt_key))\n"
     ]
    },
    {
     "data": {
      "text/plain": [
       "(0, 7)"
      ]
     },
     "execution_count": 30,
     "metadata": {},
     "output_type": "execute_result"
    },
    {
     "data": {
      "image/png": "[encoded data removed]",
      "text/plain": [
       "<matplotlib.figure.Figure at 0x7f28fc05fb00>"
      ]
     },
     "metadata": {},
     "output_type": "display_data"
    }
   ],
   "source": [
    "fig,ax = plt.subplots(1)\n",
    "#one_plot = one[1083:1120]\n",
    "#two_plot = two[1083:1120]\n",
    "ppl.plot(ax, [i[0] for i in one_plot],[i[1] for i in one_plot] )\n",
    "ppl.plot(ax, [i[0] for i in two_plot],[i[1] for i in two_plot], color = 'r' )\n",
    "ax.set_ylim([0,7])"
   ]
  },
  {
   "cell_type": "code",
   "execution_count": 13,
   "metadata": {
    "collapsed": false
   },
   "outputs": [
    {
     "data": {
      "text/plain": [
       "1283"
      ]
     },
     "execution_count": 13,
     "metadata": {},
     "output_type": "execute_result"
    }
   ],
   "source": [
    "len(one)\n"
   ]
  },
  {
   "cell_type": "code",
   "execution_count": null,
   "metadata": {
    "collapsed": false
   },
   "outputs": [],
   "source": []
  },
  {
   "cell_type": "code",
   "execution_count": null,
   "metadata": {
    "collapsed": true
   },
   "outputs": [],
   "source": []
  }
 ],
 "metadata": {
  "kernelspec": {
   "display_name": "Python 3",
   "language": "python",
   "name": "python3"
  },
  "language_info": {
   "codemirror_mode": {
    "name": "ipython",
    "version": 3
   },
   "file_extension": ".py",
   "mimetype": "text/x-python",
   "name": "python",
   "nbconvert_exporter": "python",
   "pygments_lexer": "ipython3",
   "version": "3.4.3"
  }
 },
 "nbformat": 4,
 "nbformat_minor": 0
}
