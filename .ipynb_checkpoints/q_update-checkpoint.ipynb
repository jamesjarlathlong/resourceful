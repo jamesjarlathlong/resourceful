{
 "cells": [
  {
   "cell_type": "code",
   "execution_count": 20,
   "metadata": {
    "collapsed": true
   },
   "outputs": [],
   "source": [
    "import asyncio\n",
    "import functools\n",
    "def update(self, new_item):\n",
    "    priority_level = new_item[0]\n",
    "    def matching_level(element, priority_level):\n",
    "        return element[0]==priority_level\n",
    "    try:\n",
    "        match_generator = (index for index,element in enumerate(self._queue)\n",
    "                           if matching_level(element, priority_level))\n",
    "        matching_index = next(match_generator)\n",
    "        self._queue[matching_index] = new_item\n",
    "    except StopIteration:\n",
    "        self.put_nowait(new_item)\n",
    "asyncio.PriorityQueue.update = update\n",
    "q = asyncio.PriorityQueue(maxsize = 15)"
   ]
  },
  {
   "cell_type": "code",
   "execution_count": 21,
   "metadata": {
    "collapsed": true
   },
   "outputs": [],
   "source": [
    "def some_func(a):\n",
    "    print(a)\n",
    "one = functools.partial(some_func, 1)\n",
    "two = functools.partial(some_func, 2)\n",
    "three = functools.partial(some_func, 3)"
   ]
  },
  {
   "cell_type": "code",
   "execution_count": 22,
   "metadata": {
    "collapsed": true
   },
   "outputs": [],
   "source": [
    "q.put_nowait((1, one))"
   ]
  },
  {
   "cell_type": "code",
   "execution_count": 23,
   "metadata": {
    "collapsed": false
   },
   "outputs": [],
   "source": [
    "q.put_nowait((2,two))"
   ]
  },
  {
   "cell_type": "code",
   "execution_count": 24,
   "metadata": {
    "collapsed": false
   },
   "outputs": [],
   "source": [
    "q.update((1,three))"
   ]
  },
  {
   "cell_type": "code",
   "execution_count": 26,
   "metadata": {
    "collapsed": false
   },
   "outputs": [],
   "source": [
    "q.update((4, one))"
   ]
  },
  {
   "cell_type": "code",
   "execution_count": 27,
   "metadata": {
    "collapsed": false
   },
   "outputs": [
    {
     "data": {
      "text/plain": [
       "<PriorityQueue at 0x7f4c6d9b9f28 maxsize=15 _queue=[(1, functools.partial(<function some_func at 0x7f4c6de60f28>, 3)), (2, functools.partial(<function some_func at 0x7f4c6de60f28>, 2)), (4, functools.partial(<function some_func at 0x7f4c6de60f28>, 1))]>"
      ]
     },
     "execution_count": 27,
     "metadata": {},
     "output_type": "execute_result"
    }
   ],
   "source": [
    "q"
   ]
  },
  {
   "cell_type": "code",
   "execution_count": null,
   "metadata": {
    "collapsed": true
   },
   "outputs": [],
   "source": []
  }
 ],
 "metadata": {
  "kernelspec": {
   "display_name": "Python 3",
   "language": "python",
   "name": "python3"
  },
  "language_info": {
   "codemirror_mode": {
    "name": "ipython",
    "version": 3
   },
   "file_extension": ".py",
   "mimetype": "text/x-python",
   "name": "python",
   "nbconvert_exporter": "python",
   "pygments_lexer": "ipython3",
   "version": "3.4.3"
  }
 },
 "nbformat": 4,
 "nbformat_minor": 0
}
